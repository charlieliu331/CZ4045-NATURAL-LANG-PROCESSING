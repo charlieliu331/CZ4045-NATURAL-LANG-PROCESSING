{
 "cells": [
  {
   "cell_type": "markdown",
   "id": "2ef0d27f",
   "metadata": {},
   "source": [
    "### Import Libraries"
   ]
  },
  {
   "cell_type": "code",
   "execution_count": 1,
   "id": "70c2b195",
   "metadata": {},
   "outputs": [
    {
     "name": "stdout",
     "output_type": "stream",
     "text": [
      "Requirement already satisfied: tensorflow-addons in c:\\users\\scse-cil\\appdata\\local\\programs\\python\\python37\\lib\\site-packages (0.18.0)\n",
      "Requirement already satisfied: packaging in c:\\users\\scse-cil\\appdata\\local\\programs\\python\\python37\\lib\\site-packages (from tensorflow-addons) (21.3)\n",
      "Requirement already satisfied: typeguard>=2.7 in c:\\users\\scse-cil\\appdata\\local\\programs\\python\\python37\\lib\\site-packages (from tensorflow-addons) (2.13.3)\n",
      "Requirement already satisfied: pyparsing!=3.0.5,>=2.0.2 in c:\\users\\scse-cil\\appdata\\local\\programs\\python\\python37\\lib\\site-packages (from packaging->tensorflow-addons) (3.0.9)\n"
     ]
    },
    {
     "name": "stderr",
     "output_type": "stream",
     "text": [
      "\n",
      "[notice] A new release of pip available: 22.3 -> 22.3.1\n",
      "[notice] To update, run: python.exe -m pip install --upgrade pip\n"
     ]
    }
   ],
   "source": [
    "import numpy as np\n",
    "import pandas as pd\n",
    "import keras\n",
    "from keras import initializers\n",
    "from keras.preprocessing import sequence\n",
    "from keras.models import Sequential\n",
    "from keras.layers import Dense, Dropout, Embedding, LSTM, Bidirectional\n",
    "from keras.layers import *\n",
    "from keras.models import *\n",
    "from keras import backend as K\n",
    "import os\n",
    "import shutil\n",
    "import pathlib\n",
    "\n",
    "import tensorflow as tf\n",
    "import tensorflow_hub as hub\n",
    "import tensorflow_text as text\n",
    "from official.nlp import optimization  # to create AdamW optimizer\n",
    "import pandas as pd\n",
    "import numpy as np\n",
    "import matplotlib.pyplot as plt\n",
    "import keras.backend as K\n",
    "from sklearn.model_selection import train_test_split\n",
    "\n",
    "!pip install tensorflow-addons\n",
    "import tensorflow_addons as tfa\n",
    "tf.get_logger().setLevel('ERROR')\n"
   ]
  },
  {
   "cell_type": "markdown",
   "id": "d3a97d13",
   "metadata": {},
   "source": [
    "### Loading data"
   ]
  },
  {
   "cell_type": "code",
   "execution_count": 2,
   "id": "65907154",
   "metadata": {},
   "outputs": [],
   "source": [
    "df = pd.read_csv('data/labelled_pol.csv')"
   ]
  },
  {
   "cell_type": "code",
   "execution_count": 3,
   "id": "c5b866da",
   "metadata": {},
   "outputs": [],
   "source": [
    "df.dropna(inplace = True)"
   ]
  },
  {
   "cell_type": "markdown",
   "id": "15a75ef2",
   "metadata": {},
   "source": [
    "### Balance class weights"
   ]
  },
  {
   "cell_type": "code",
   "execution_count": 4,
   "id": "a6f705f1",
   "metadata": {},
   "outputs": [],
   "source": [
    "pos = df[df['Label'] == 1]\n",
    "neut = df[df['Label'] == 0]\n",
    "l = df['Label'].value_counts()[0]\n",
    "df = pd.concat([pos.head(l), neut])"
   ]
  },
  {
   "cell_type": "code",
   "execution_count": 5,
   "id": "decd56f4",
   "metadata": {},
   "outputs": [],
   "source": [
    "def compute_class_weights(labels):\n",
    "\n",
    "    # Count number of postive and negative bags.\n",
    "    negative_count = len(np.where(labels == 0)[0])\n",
    "    positive_count = len(np.where(labels == 1)[0])\n",
    "    total_count = negative_count + positive_count\n",
    "\n",
    "    # Build class weight dictionary.\n",
    "    return {\n",
    "        0: (1 / negative_count) * (total_count / 2),\n",
    "        1: (1 / positive_count) * (total_count / 2),\n",
    "    }\n"
   ]
  },
  {
   "cell_type": "markdown",
   "id": "08db92ed",
   "metadata": {},
   "source": [
    "### Split data"
   ]
  },
  {
   "cell_type": "code",
   "execution_count": 6,
   "id": "06ce69ea",
   "metadata": {},
   "outputs": [],
   "source": [
    "# Use a utility from sklearn to split and shuffle your dataset.\n",
    "train_df, test_df = train_test_split(df, test_size=0.2)\n",
    "train_df, val_df = train_test_split(train_df, test_size=0.2)"
   ]
  },
  {
   "cell_type": "code",
   "execution_count": 7,
   "id": "4283a4c4",
   "metadata": {},
   "outputs": [],
   "source": [
    "### Define Metrics"
   ]
  },
  {
   "cell_type": "code",
   "execution_count": 8,
   "id": "4755b1cc",
   "metadata": {},
   "outputs": [],
   "source": [
    "def recall_m(y_true, y_pred):\n",
    "    true_positives = K.sum(K.round(K.clip(y_true * y_pred, 0, 1)))\n",
    "    possible_positives = K.sum(K.round(K.clip(y_true, 0, 1)))\n",
    "    recall = true_positives / (possible_positives + K.epsilon())\n",
    "    return recall\n",
    "\n",
    "def precision_m(y_true, y_pred):\n",
    "    true_positives = K.sum(K.round(K.clip(y_true * y_pred, 0, 1)))\n",
    "    predicted_positives = K.sum(K.round(K.clip(y_pred, 0, 1)))\n",
    "    precision = true_positives / (predicted_positives + K.epsilon())\n",
    "    return precision \n",
    "\n",
    "def f1_m(y_true, y_pred):\n",
    "    precision = precision_m(y_true, y_pred)\n",
    "    recall = recall_m(y_true, y_pred)\n",
    "    return 2*((precision*recall)/(precision+recall+K.epsilon()))"
   ]
  },
  {
   "cell_type": "code",
   "execution_count": 9,
   "id": "863a611d",
   "metadata": {},
   "outputs": [],
   "source": [
    "loss = tf.keras.losses.BinaryCrossentropy(from_logits=True)\n",
    "metrics = [tf.metrics.BinaryAccuracy(), f1_m, precision_m, recall_m]\n",
    "callback = tf.keras.callbacks.EarlyStopping(monitor = 'val_f1_m', patience = 3)"
   ]
  },
  {
   "cell_type": "markdown",
   "id": "ca8fc596",
   "metadata": {},
   "source": [
    "### Encode Data"
   ]
  },
  {
   "cell_type": "code",
   "execution_count": 10,
   "id": "277ab6eb",
   "metadata": {},
   "outputs": [
    {
     "name": "stdout",
     "output_type": "stream",
     "text": [
      "BERT model selected           : https://tfhub.dev/tensorflow/small_bert/bert_en_uncased_L-4_H-512_A-8/1\n",
      "Preprocess model auto-selected: https://tfhub.dev/tensorflow/bert_en_uncased_preprocess/3\n"
     ]
    }
   ],
   "source": [
    "bert_model_name = 'small_bert/bert_en_uncased_L-4_H-512_A-8'  #@param [\"bert_en_uncased_L-12_H-768_A-12\", \"bert_en_cased_L-12_H-768_A-12\", \"bert_multi_cased_L-12_H-768_A-12\", \"small_bert/bert_en_uncased_L-2_H-128_A-2\", \"small_bert/bert_en_uncased_L-2_H-256_A-4\", \"small_bert/bert_en_uncased_L-2_H-512_A-8\", \"small_bert/bert_en_uncased_L-2_H-768_A-12\", \"small_bert/bert_en_uncased_L-4_H-128_A-2\", \"small_bert/bert_en_uncased_L-4_H-256_A-4\", \"small_bert/bert_en_uncased_L-4_H-512_A-8\", \"small_bert/bert_en_uncased_L-4_H-768_A-12\", \"small_bert/bert_en_uncased_L-6_H-128_A-2\", \"small_bert/bert_en_uncased_L-6_H-256_A-4\", \"small_bert/bert_en_uncased_L-6_H-512_A-8\", \"small_bert/bert_en_uncased_L-6_H-768_A-12\", \"small_bert/bert_en_uncased_L-8_H-128_A-2\", \"small_bert/bert_en_uncased_L-8_H-256_A-4\", \"small_bert/bert_en_uncased_L-8_H-512_A-8\", \"small_bert/bert_en_uncased_L-8_H-768_A-12\", \"small_bert/bert_en_uncased_L-10_H-128_A-2\", \"small_bert/bert_en_uncased_L-10_H-256_A-4\", \"small_bert/bert_en_uncased_L-10_H-512_A-8\", \"small_bert/bert_en_uncased_L-10_H-768_A-12\", \"small_bert/bert_en_uncased_L-12_H-128_A-2\", \"small_bert/bert_en_uncased_L-12_H-256_A-4\", \"small_bert/bert_en_uncased_L-12_H-512_A-8\", \"small_bert/bert_en_uncased_L-12_H-768_A-12\", \"albert_en_base\", \"electra_small\", \"electra_base\", \"experts_pubmed\", \"experts_wiki_books\", \"talking-heads_base\"]\n",
    "map_name_to_handle = {'small_bert/bert_en_uncased_L-4_H-512_A-8': 'https://tfhub.dev/tensorflow/small_bert/bert_en_uncased_L-4_H-512_A-8/1'}\n",
    "map_model_to_preprocess = {'small_bert/bert_en_uncased_L-4_H-512_A-8': 'https://tfhub.dev/tensorflow/bert_en_uncased_preprocess/3'}\n",
    "tfhub_handle_encoder = map_name_to_handle[bert_model_name]\n",
    "tfhub_handle_preprocess = map_model_to_preprocess[bert_model_name]\n",
    "\n",
    "print(f'BERT model selected           : {tfhub_handle_encoder}')\n",
    "print(f'Preprocess model auto-selected: {tfhub_handle_preprocess}')"
   ]
  },
  {
   "cell_type": "code",
   "execution_count": 11,
   "id": "7eb62dae",
   "metadata": {},
   "outputs": [],
   "source": [
    "bert_preprocess_model = hub.KerasLayer(tfhub_handle_preprocess)"
   ]
  },
  {
   "cell_type": "markdown",
   "id": "6338b4e7",
   "metadata": {},
   "source": [
    "### Encoding Data"
   ]
  },
  {
   "cell_type": "code",
   "execution_count": 12,
   "id": "157069f8",
   "metadata": {},
   "outputs": [],
   "source": [
    "x_train = bert_preprocess_model(train_df['Lemmatized_Text'])['input_word_ids']\n",
    "x_val = bert_preprocess_model(val_df['Lemmatized_Text'])['input_word_ids']\n",
    "x_test = bert_preprocess_model(test_df['Lemmatized_Text'])['input_word_ids']"
   ]
  },
  {
   "cell_type": "code",
   "execution_count": 13,
   "id": "8d783083",
   "metadata": {},
   "outputs": [],
   "source": [
    "# high = max(x_train[0])\n",
    "# for i in x_train:\n",
    "#     if max(i) > high:\n",
    "#         high = max(i)\n",
    "# for i in x_test:\n",
    "#     if max(i) > high:\n",
    "#         high = max(i)"
   ]
  },
  {
   "cell_type": "markdown",
   "id": "13fd940f",
   "metadata": {},
   "source": [
    "### Padding Encodings"
   ]
  },
  {
   "cell_type": "code",
   "execution_count": 14,
   "id": "ca68fb64",
   "metadata": {},
   "outputs": [],
   "source": [
    "n_unique_words = 29603 # cut texts after this number of words\n",
    "maxlen = 50\n",
    "batch_size = 128"
   ]
  },
  {
   "cell_type": "code",
   "execution_count": 15,
   "id": "827e20d2",
   "metadata": {},
   "outputs": [],
   "source": [
    "x = sequence.pad_sequences(x_train, maxlen=maxlen)\n",
    "x_val = sequence.pad_sequences(x_val, maxlen=maxlen)\n",
    "x_test = sequence.pad_sequences(x_test, maxlen=maxlen)\n",
    "\n",
    "y = np.array(train_df['Label'])\n",
    "y_val = np.array(val_df['Label'])\n",
    "y_test = np.array(test_df['Label'])\n"
   ]
  },
  {
   "cell_type": "markdown",
   "id": "9cbef2ab",
   "metadata": {},
   "source": [
    "### Defining model"
   ]
  },
  {
   "cell_type": "code",
   "execution_count": 16,
   "id": "7e5bc0d7",
   "metadata": {},
   "outputs": [],
   "source": [
    "def build_LSTM():\n",
    "    model = Sequential()\n",
    "    model.add(Embedding(n_unique_words, 128, input_length=maxlen))\n",
    "    model.add(Bidirectional(LSTM(64)))\n",
    "    model.add(Dense(1, activation='sigmoid'))\n",
    "    model.compile(loss='binary_crossentropy', optimizer='adam', metrics=metrics) \n",
    "    return model"
   ]
  },
  {
   "cell_type": "code",
   "execution_count": 17,
   "id": "4c011c21",
   "metadata": {},
   "outputs": [],
   "source": [
    "class attention(Layer):\n",
    "    def __init__(self, return_sequences=True):\n",
    "        self.return_sequences = return_sequences\n",
    "\n",
    "        super(attention,self).__init__()\n",
    "\n",
    "    def build(self, input_shape):\n",
    "        self.W=self.add_weight(name=\"att_weight\", shape=(input_shape[-1],1),initializer=\"normal\")\n",
    "        self.b=self.add_weight(name=\"att_bias\", shape=(input_shape[1],1), initializer=\"zeros\")\n",
    "        super(attention,self).build(input_shape)\n",
    "\n",
    "\n",
    "    def call(self, x):\n",
    "        e = K.tanh(K.dot(x,self.W)+self.b)\n",
    "        a = K.softmax(e, axis=1)\n",
    "        output = x*a\n",
    "        if self.return_sequences:\n",
    "            return output\n",
    "        return K.sum(output, axis=1)"
   ]
  },
  {
   "cell_type": "code",
   "execution_count": 18,
   "id": "a111fa0b",
   "metadata": {},
   "outputs": [],
   "source": [
    "def build_Att_Bi_LSTM():\n",
    "    model = Sequential()\n",
    "    model.add(Embedding(n_unique_words, 128, input_length=maxlen))\n",
    "    model.add(Bidirectional(LSTM(64,return_sequences=True)))\n",
    "    model.add(attention(return_sequences=False))\n",
    "    model.add(Dense(1, activation='sigmoid'))\n",
    "    opt = tf.keras.optimizers.Adam(\n",
    "    learning_rate=0.001,\n",
    "    beta_1=0.9,\n",
    "    beta_2=0.999,\n",
    "    epsilon=1e-07,\n",
    "    amsgrad=False,\n",
    "    name='Adam',\n",
    ")\n",
    "    model.compile(loss='binary_crossentropy', optimizer=opt, metrics=metrics) \n",
    "    return model"
   ]
  },
  {
   "cell_type": "markdown",
   "id": "d4513d33",
   "metadata": {},
   "source": [
    "### Training"
   ]
  },
  {
   "cell_type": "code",
   "execution_count": 19,
   "id": "57aad42d",
   "metadata": {},
   "outputs": [],
   "source": [
    "checkpoint_path = \"weights/polarity.ckpt\"\n",
    "checkpoint_dir = os.path.dirname(checkpoint_path)\n",
    "\n",
    "# Create a callback that saves the model's weights\n",
    "cp_callback = tf.keras.callbacks.ModelCheckpoint(filepath=checkpoint_path,\n",
    "                                                 save_weights_only=True,\n",
    "                                                 verbose=1)"
   ]
  },
  {
   "cell_type": "markdown",
   "id": "74544de9",
   "metadata": {},
   "source": [
    "### Training Bi-LSTM Model"
   ]
  },
  {
   "cell_type": "code",
   "execution_count": 20,
   "id": "aa5229b5",
   "metadata": {},
   "outputs": [
    {
     "name": "stdout",
     "output_type": "stream",
     "text": [
      "Epoch 1/12\n",
      "11/12 [==========================>...] - ETA: 0s - loss: 0.6923 - binary_accuracy: 0.5170 - f1_m: 0.5834 - precision_m: 0.5510 - recall_m: 0.7644\n",
      "Epoch 1: saving model to weights\\polarity.ckpt\n",
      "12/12 [==============================] - 6s 177ms/step - loss: 0.6932 - binary_accuracy: 0.5104 - f1_m: 0.5765 - precision_m: 0.5392 - recall_m: 0.7542 - val_loss: 0.6892 - val_binary_accuracy: 0.5464 - val_f1_m: 0.4610 - val_precision_m: 0.3854 - val_recall_m: 0.5760\n",
      "Epoch 2/12\n",
      "11/12 [==========================>...] - ETA: 0s - loss: 0.6814 - binary_accuracy: 0.5568 - f1_m: 0.6000 - precision_m: 0.5480 - recall_m: 0.6919\n",
      "Epoch 2: saving model to weights\\polarity.ckpt\n",
      "12/12 [==============================] - 1s 76ms/step - loss: 0.6820 - binary_accuracy: 0.5495 - f1_m: 0.5929 - precision_m: 0.5398 - recall_m: 0.6842 - val_loss: 0.6859 - val_binary_accuracy: 0.5670 - val_f1_m: 0.4587 - val_precision_m: 0.3987 - val_recall_m: 0.5404\n",
      "Epoch 3/12\n",
      "11/12 [==========================>...] - ETA: 0s - loss: 0.6625 - binary_accuracy: 0.6080 - f1_m: 0.6730 - precision_m: 0.5719 - recall_m: 0.8276\n",
      "Epoch 3: saving model to weights\\polarity.ckpt\n",
      "12/12 [==============================] - 1s 81ms/step - loss: 0.6618 - binary_accuracy: 0.6094 - f1_m: 0.6739 - precision_m: 0.5694 - recall_m: 0.8360 - val_loss: 0.6828 - val_binary_accuracy: 0.5567 - val_f1_m: 0.4625 - val_precision_m: 0.3939 - val_recall_m: 0.5613\n",
      "Epoch 4/12\n",
      "11/12 [==========================>...] - ETA: 0s - loss: 0.5870 - binary_accuracy: 0.6506 - f1_m: 0.7128 - precision_m: 0.5957 - recall_m: 0.8971\n",
      "Epoch 4: saving model to weights\\polarity.ckpt\n",
      "12/12 [==============================] - 1s 77ms/step - loss: 0.5790 - binary_accuracy: 0.6589 - f1_m: 0.7171 - precision_m: 0.5976 - recall_m: 0.9057 - val_loss: 0.6706 - val_binary_accuracy: 0.5464 - val_f1_m: 0.4535 - val_precision_m: 0.3913 - val_recall_m: 0.5404\n",
      "Epoch 5/12\n",
      "11/12 [==========================>...] - ETA: 0s - loss: 0.5221 - binary_accuracy: 0.7045 - f1_m: 0.7673 - precision_m: 0.6298 - recall_m: 0.9955\n",
      "Epoch 5: saving model to weights\\polarity.ckpt\n",
      "12/12 [==============================] - 1s 73ms/step - loss: 0.5184 - binary_accuracy: 0.7005 - f1_m: 0.7619 - precision_m: 0.6225 - recall_m: 0.9958 - val_loss: 0.6909 - val_binary_accuracy: 0.4948 - val_f1_m: 0.1964 - val_precision_m: 0.3750 - val_recall_m: 0.1385\n",
      "Epoch 6/12\n",
      "11/12 [==========================>...] - ETA: 0s - loss: 0.5003 - binary_accuracy: 0.7273 - f1_m: 0.6444 - precision_m: 0.8192 - recall_m: 0.6877\n",
      "Epoch 6: saving model to weights\\polarity.ckpt\n",
      "12/12 [==============================] - 1s 75ms/step - loss: 0.5000 - binary_accuracy: 0.7240 - f1_m: 0.6551 - precision_m: 0.8034 - recall_m: 0.7137 - val_loss: 0.6890 - val_binary_accuracy: 0.5155 - val_f1_m: 0.4760 - val_precision_m: 0.3722 - val_recall_m: 0.6642\n",
      "Epoch 7/12\n",
      "11/12 [==========================>...] - ETA: 0s - loss: 0.4803 - binary_accuracy: 0.7045 - f1_m: 0.7631 - precision_m: 0.6251 - recall_m: 0.9947\n",
      "Epoch 7: saving model to weights\\polarity.ckpt\n",
      "12/12 [==============================] - 1s 77ms/step - loss: 0.4821 - binary_accuracy: 0.7031 - f1_m: 0.7630 - precision_m: 0.6243 - recall_m: 0.9951 - val_loss: 0.8253 - val_binary_accuracy: 0.5464 - val_f1_m: 0.4838 - val_precision_m: 0.3865 - val_recall_m: 0.6495\n",
      "Epoch 8/12\n",
      "11/12 [==========================>...] - ETA: 0s - loss: 0.4805 - binary_accuracy: 0.6847 - f1_m: 0.6329 - precision_m: 0.7584 - recall_m: 0.7263\n",
      "Epoch 8: saving model to weights\\polarity.ckpt\n",
      "12/12 [==============================] - 1s 77ms/step - loss: 0.4797 - binary_accuracy: 0.6745 - f1_m: 0.6186 - precision_m: 0.7785 - recall_m: 0.6908 - val_loss: 0.8671 - val_binary_accuracy: 0.5361 - val_f1_m: 0.4761 - val_precision_m: 0.3822 - val_recall_m: 0.6348\n",
      "Epoch 9/12\n",
      "12/12 [==============================] - ETA: 0s - loss: 0.4772 - binary_accuracy: 0.6875 - f1_m: 0.6600 - precision_m: 0.7486 - recall_m: 0.7663\n",
      "Epoch 9: saving model to weights\\polarity.ckpt\n",
      "12/12 [==============================] - 1s 78ms/step - loss: 0.4772 - binary_accuracy: 0.6875 - f1_m: 0.6600 - precision_m: 0.7486 - recall_m: 0.7663 - val_loss: 0.8926 - val_binary_accuracy: 0.4948 - val_f1_m: 0.1468 - val_precision_m: 0.3542 - val_recall_m: 0.0944\n",
      "Epoch 10/12\n",
      "12/12 [==============================] - ETA: 0s - loss: 0.4571 - binary_accuracy: 0.7161 - f1_m: 0.7514 - precision_m: 0.6694 - recall_m: 0.9444\n",
      "Epoch 10: saving model to weights\\polarity.ckpt\n",
      "12/12 [==============================] - 1s 78ms/step - loss: 0.4571 - binary_accuracy: 0.7161 - f1_m: 0.7514 - precision_m: 0.6694 - recall_m: 0.9444 - val_loss: 0.9444 - val_binary_accuracy: 0.5155 - val_f1_m: 0.4646 - val_precision_m: 0.3738 - val_recall_m: 0.6201\n",
      "Epoch 11/12\n",
      "12/12 [==============================] - ETA: 0s - loss: 0.4471 - binary_accuracy: 0.7109 - f1_m: 0.7652 - precision_m: 0.6263 - recall_m: 1.0000\n",
      "Epoch 11: saving model to weights\\polarity.ckpt\n",
      "12/12 [==============================] - 1s 80ms/step - loss: 0.4471 - binary_accuracy: 0.7109 - f1_m: 0.7652 - precision_m: 0.6263 - recall_m: 1.0000 - val_loss: 0.9269 - val_binary_accuracy: 0.5258 - val_f1_m: 0.4686 - val_precision_m: 0.3783 - val_recall_m: 0.6201\n",
      "Epoch 12/12\n",
      "12/12 [==============================] - ETA: 0s - loss: 0.4440 - binary_accuracy: 0.7109 - f1_m: 0.7713 - precision_m: 0.6313 - recall_m: 1.0000\n",
      "Epoch 12: saving model to weights\\polarity.ckpt\n",
      "12/12 [==============================] - 1s 73ms/step - loss: 0.4440 - binary_accuracy: 0.7109 - f1_m: 0.7713 - precision_m: 0.6313 - recall_m: 1.0000 - val_loss: 0.9512 - val_binary_accuracy: 0.5155 - val_f1_m: 0.4646 - val_precision_m: 0.3738 - val_recall_m: 0.6201\n",
      "Epoch 1/12\n",
      "13/13 [==============================] - ETA: 0s - loss: 0.6944 - binary_accuracy: 0.4979 - f1_m: 0.3569 - precision_m: 0.3008 - recall_m: 0.4609\n",
      "Epoch 1: saving model to weights\\polarity.ckpt\n",
      "13/13 [==============================] - 6s 171ms/step - loss: 0.6944 - binary_accuracy: 0.4979 - f1_m: 0.3569 - precision_m: 0.3008 - recall_m: 0.4609 - val_loss: 0.7005 - val_binary_accuracy: 0.4688 - val_f1_m: 0.5572 - val_precision_m: 0.4583 - val_recall_m: 0.7119\n",
      "Epoch 2/12\n",
      "12/13 [==========================>...] - ETA: 0s - loss: 0.6898 - binary_accuracy: 0.6042 - f1_m: 0.6981 - precision_m: 0.5608 - recall_m: 0.9488\n",
      "Epoch 2: saving model to weights\\polarity.ckpt\n",
      "13/13 [==============================] - 1s 79ms/step - loss: 0.6898 - binary_accuracy: 0.6026 - f1_m: 0.6444 - precision_m: 0.5177 - recall_m: 0.8758 - val_loss: 0.7075 - val_binary_accuracy: 0.4688 - val_f1_m: 0.5492 - val_precision_m: 0.4565 - val_recall_m: 0.6897\n",
      "Epoch 3/12\n",
      "12/13 [==========================>...] - ETA: 0s - loss: 0.6701 - binary_accuracy: 0.6354 - f1_m: 0.7007 - precision_m: 0.5863 - recall_m: 0.8827\n",
      "Epoch 3: saving model to weights\\polarity.ckpt\n",
      "13/13 [==============================] - 1s 80ms/step - loss: 0.6697 - binary_accuracy: 0.6364 - f1_m: 0.6468 - precision_m: 0.5412 - recall_m: 0.8148 - val_loss: 0.6982 - val_binary_accuracy: 0.5000 - val_f1_m: 0.5240 - val_precision_m: 0.4683 - val_recall_m: 0.5960\n",
      "Epoch 4/12\n",
      "12/13 [==========================>...] - ETA: 0s - loss: 0.6211 - binary_accuracy: 0.6510 - f1_m: 0.7081 - precision_m: 0.6004 - recall_m: 0.8698\n",
      "Epoch 4: saving model to weights\\polarity.ckpt\n",
      "13/13 [==============================] - 1s 74ms/step - loss: 0.6212 - binary_accuracy: 0.6519 - f1_m: 0.7305 - precision_m: 0.6312 - recall_m: 0.8798 - val_loss: 0.6947 - val_binary_accuracy: 0.5104 - val_f1_m: 0.5791 - val_precision_m: 0.4822 - val_recall_m: 0.7282\n",
      "Epoch 5/12\n",
      "13/13 [==============================] - ETA: 0s - loss: 0.5525 - binary_accuracy: 0.6961 - f1_m: 0.7002 - precision_m: 0.5738 - recall_m: 0.9046\n",
      "Epoch 5: saving model to weights\\polarity.ckpt\n",
      "13/13 [==============================] - 1s 71ms/step - loss: 0.5525 - binary_accuracy: 0.6961 - f1_m: 0.7002 - precision_m: 0.5738 - recall_m: 0.9046 - val_loss: 0.7407 - val_binary_accuracy: 0.4896 - val_f1_m: 0.5458 - val_precision_m: 0.4646 - val_recall_m: 0.6613\n",
      "Epoch 6/12\n",
      "12/13 [==========================>...] - ETA: 0s - loss: 0.5252 - binary_accuracy: 0.7161 - f1_m: 0.7719 - precision_m: 0.6329 - recall_m: 1.0000\n",
      "Epoch 6: saving model to weights\\polarity.ckpt\n"
     ]
    },
    {
     "name": "stdout",
     "output_type": "stream",
     "text": [
      "13/13 [==============================] - 1s 75ms/step - loss: 0.5255 - binary_accuracy: 0.7169 - f1_m: 0.7894 - precision_m: 0.6611 - recall_m: 1.0000 - val_loss: 1.1182 - val_binary_accuracy: 0.5000 - val_f1_m: 0.5340 - val_precision_m: 0.4711 - val_recall_m: 0.6183\n",
      "Epoch 7/12\n",
      "13/13 [==============================] - ETA: 0s - loss: 0.5212 - binary_accuracy: 0.7065 - f1_m: 0.7710 - precision_m: 0.6489 - recall_m: 0.9790\n",
      "Epoch 7: saving model to weights\\polarity.ckpt\n",
      "13/13 [==============================] - 1s 69ms/step - loss: 0.5212 - binary_accuracy: 0.7065 - f1_m: 0.7710 - precision_m: 0.6489 - recall_m: 0.9790 - val_loss: 0.7512 - val_binary_accuracy: 0.5104 - val_f1_m: 0.6022 - val_precision_m: 0.4844 - val_recall_m: 0.7964\n",
      "Epoch 8/12\n",
      "13/13 [==============================] - ETA: 0s - loss: 0.4821 - binary_accuracy: 0.7169 - f1_m: 0.7137 - precision_m: 0.5846 - recall_m: 0.9231\n",
      "Epoch 8: saving model to weights\\polarity.ckpt\n",
      "13/13 [==============================] - 1s 73ms/step - loss: 0.4821 - binary_accuracy: 0.7169 - f1_m: 0.7137 - precision_m: 0.5846 - recall_m: 0.9231 - val_loss: 0.7810 - val_binary_accuracy: 0.4688 - val_f1_m: 0.5756 - val_precision_m: 0.4592 - val_recall_m: 0.7758\n",
      "Epoch 9/12\n",
      "13/13 [==============================] - ETA: 0s - loss: 0.4567 - binary_accuracy: 0.7143 - f1_m: 0.7084 - precision_m: 0.5839 - recall_m: 0.9176\n",
      "Epoch 9: saving model to weights\\polarity.ckpt\n",
      "13/13 [==============================] - 1s 75ms/step - loss: 0.4567 - binary_accuracy: 0.7143 - f1_m: 0.7084 - precision_m: 0.5839 - recall_m: 0.9176 - val_loss: 0.9388 - val_binary_accuracy: 0.4583 - val_f1_m: 0.5713 - val_precision_m: 0.4537 - val_recall_m: 0.7742\n",
      "Epoch 10/12\n",
      "13/13 [==============================] - ETA: 0s - loss: 0.4422 - binary_accuracy: 0.7195 - f1_m: 0.6273 - precision_m: 0.6920 - recall_m: 0.7387\n",
      "Epoch 10: saving model to weights\\polarity.ckpt\n",
      "13/13 [==============================] - 1s 75ms/step - loss: 0.4422 - binary_accuracy: 0.7195 - f1_m: 0.6273 - precision_m: 0.6920 - recall_m: 0.7387 - val_loss: 0.9887 - val_binary_accuracy: 0.4583 - val_f1_m: 0.5930 - val_precision_m: 0.4576 - val_recall_m: 0.8440\n",
      "Epoch 11/12\n",
      "12/13 [==========================>...] - ETA: 0s - loss: 0.4511 - binary_accuracy: 0.7161 - f1_m: 0.7709 - precision_m: 0.6330 - recall_m: 1.0000\n",
      "Epoch 11: saving model to weights\\polarity.ckpt\n",
      "13/13 [==============================] - 1s 76ms/step - loss: 0.4511 - binary_accuracy: 0.7169 - f1_m: 0.7886 - precision_m: 0.6612 - recall_m: 1.0000 - val_loss: 0.7658 - val_binary_accuracy: 0.4896 - val_f1_m: 0.6077 - val_precision_m: 0.4748 - val_recall_m: 0.8440\n",
      "Epoch 12/12\n",
      "12/13 [==========================>...] - ETA: 0s - loss: 0.4702 - binary_accuracy: 0.7188 - f1_m: 0.7720 - precision_m: 0.6379 - recall_m: 1.0000\n",
      "Epoch 12: saving model to weights\\polarity.ckpt\n",
      "13/13 [==============================] - 1s 76ms/step - loss: 0.4716 - binary_accuracy: 0.7169 - f1_m: 0.7126 - precision_m: 0.5888 - recall_m: 0.9231 - val_loss: 0.7590 - val_binary_accuracy: 0.5000 - val_f1_m: 0.6125 - val_precision_m: 0.4809 - val_recall_m: 0.8440\n",
      "Epoch 1/12\n",
      "12/13 [==========================>...] - ETA: 0s - loss: 0.6937 - binary_accuracy: 0.5000 - f1_m: 0.4872 - precision_m: 0.4828 - recall_m: 0.6265\n",
      "Epoch 1: saving model to weights\\polarity.ckpt\n",
      "13/13 [==============================] - 6s 158ms/step - loss: 0.6936 - binary_accuracy: 0.4990 - f1_m: 0.4498 - precision_m: 0.4457 - recall_m: 0.5783 - val_loss: 0.6893 - val_binary_accuracy: 0.5729 - val_f1_m: 0.6443 - val_precision_m: 0.5815 - val_recall_m: 0.7533\n",
      "Epoch 2/12\n",
      "13/13 [==============================] - ETA: 0s - loss: 0.6852 - binary_accuracy: 0.5506 - f1_m: 0.2151 - precision_m: 0.5037 - recall_m: 0.2316\n",
      "Epoch 2: saving model to weights\\polarity.ckpt\n",
      "13/13 [==============================] - 1s 78ms/step - loss: 0.6852 - binary_accuracy: 0.5506 - f1_m: 0.2151 - precision_m: 0.5037 - recall_m: 0.2316 - val_loss: 0.6897 - val_binary_accuracy: 0.4583 - val_f1_m: 0.0000e+00 - val_precision_m: 0.0000e+00 - val_recall_m: 0.0000e+00\n",
      "Epoch 3/12\n",
      "12/13 [==========================>...] - ETA: 0s - loss: 0.6710 - binary_accuracy: 0.5859 - f1_m: 0.3681 - precision_m: 0.7254 - recall_m: 0.3620\n",
      "Epoch 3: saving model to weights\\polarity.ckpt\n",
      "13/13 [==============================] - 1s 76ms/step - loss: 0.6709 - binary_accuracy: 0.5870 - f1_m: 0.4167 - precision_m: 0.7465 - recall_m: 0.4111 - val_loss: 0.6741 - val_binary_accuracy: 0.5625 - val_f1_m: 0.6176 - val_precision_m: 0.5735 - val_recall_m: 0.6915\n",
      "Epoch 4/12\n",
      "12/13 [==========================>...] - ETA: 0s - loss: 0.6328 - binary_accuracy: 0.6328 - f1_m: 0.7013 - precision_m: 0.5726 - recall_m: 0.9197\n",
      "Epoch 4: saving model to weights\\polarity.ckpt\n",
      "13/13 [==============================] - 1s 73ms/step - loss: 0.6312 - binary_accuracy: 0.6338 - f1_m: 0.6473 - precision_m: 0.5285 - recall_m: 0.8490 - val_loss: 0.6766 - val_binary_accuracy: 0.5729 - val_f1_m: 0.6183 - val_precision_m: 0.5908 - val_recall_m: 0.6770\n",
      "Epoch 5/12\n",
      "12/13 [==========================>...] - ETA: 0s - loss: 0.5319 - binary_accuracy: 0.6849 - f1_m: 0.7490 - precision_m: 0.6053 - recall_m: 0.9954\n",
      "Epoch 5: saving model to weights\\polarity.ckpt\n",
      "13/13 [==============================] - 1s 75ms/step - loss: 0.5307 - binary_accuracy: 0.6857 - f1_m: 0.6914 - precision_m: 0.5588 - recall_m: 0.9188 - val_loss: 0.6569 - val_binary_accuracy: 0.6146 - val_f1_m: 0.6892 - val_precision_m: 0.6194 - val_recall_m: 0.8285\n",
      "Epoch 6/12\n",
      "12/13 [==========================>...] - ETA: 0s - loss: 0.5154 - binary_accuracy: 0.6875 - f1_m: 0.7452 - precision_m: 0.6027 - recall_m: 0.9902\n",
      "Epoch 6: saving model to weights\\polarity.ckpt\n",
      "13/13 [==============================] - 1s 76ms/step - loss: 0.5141 - binary_accuracy: 0.6883 - f1_m: 0.6878 - precision_m: 0.5564 - recall_m: 0.9140 - val_loss: 0.6566 - val_binary_accuracy: 0.6458 - val_f1_m: 0.7028 - val_precision_m: 0.6435 - val_recall_m: 0.8152\n",
      "Epoch 7/12\n",
      "13/13 [==============================] - ETA: 0s - loss: 0.4936 - binary_accuracy: 0.7273 - f1_m: 0.6688 - precision_m: 0.8469 - recall_m: 0.6937\n",
      "Epoch 7: saving model to weights\\polarity.ckpt\n",
      "13/13 [==============================] - 1s 74ms/step - loss: 0.4936 - binary_accuracy: 0.7273 - f1_m: 0.6688 - precision_m: 0.8469 - recall_m: 0.6937 - val_loss: 0.6559 - val_binary_accuracy: 0.6042 - val_f1_m: 0.6621 - val_precision_m: 0.5897 - val_recall_m: 0.7742\n",
      "Epoch 8/12\n",
      "12/13 [==========================>...] - ETA: 0s - loss: 0.5333 - binary_accuracy: 0.6823 - f1_m: 0.7485 - precision_m: 0.6038 - recall_m: 1.0000\n",
      "Epoch 8: saving model to weights\\polarity.ckpt\n",
      "13/13 [==============================] - 1s 73ms/step - loss: 0.5347 - binary_accuracy: 0.6805 - f1_m: 0.6909 - precision_m: 0.5574 - recall_m: 0.9231 - val_loss: 0.7169 - val_binary_accuracy: 0.6042 - val_f1_m: 0.6574 - val_precision_m: 0.5919 - val_recall_m: 0.7597\n",
      "Epoch 9/12\n",
      "12/13 [==========================>...] - ETA: 0s - loss: 0.4894 - binary_accuracy: 0.6849 - f1_m: 0.6518 - precision_m: 0.7370 - recall_m: 0.7664\n",
      "Epoch 9: saving model to weights\\polarity.ckpt\n",
      "13/13 [==============================] - 1s 73ms/step - loss: 0.4881 - binary_accuracy: 0.6857 - f1_m: 0.6017 - precision_m: 0.6804 - recall_m: 0.7074 - val_loss: 0.7178 - val_binary_accuracy: 0.4896 - val_f1_m: 0.1416 - val_precision_m: 0.5333 - val_recall_m: 0.0827\n",
      "Epoch 10/12\n",
      "12/13 [==========================>...] - ETA: 0s - loss: 0.4823 - binary_accuracy: 0.6667 - f1_m: 0.5761 - precision_m: 0.8441 - recall_m: 0.5741\n",
      "Epoch 10: saving model to weights\\polarity.ckpt\n",
      "13/13 [==============================] - 1s 80ms/step - loss: 0.4828 - binary_accuracy: 0.6675 - f1_m: 0.6087 - precision_m: 0.8560 - recall_m: 0.6069 - val_loss: 0.7603 - val_binary_accuracy: 0.6250 - val_f1_m: 0.6709 - val_precision_m: 0.6116 - val_recall_m: 0.7597\n",
      "Epoch 11/12\n",
      "12/13 [==========================>...] - ETA: 0s - loss: 0.4734 - binary_accuracy: 0.6927 - f1_m: 0.7519 - precision_m: 0.6061 - recall_m: 1.0000\n",
      "Epoch 11: saving model to weights\\polarity.ckpt\n",
      "13/13 [==============================] - 1s 73ms/step - loss: 0.4722 - binary_accuracy: 0.6935 - f1_m: 0.6940 - precision_m: 0.5595 - recall_m: 0.9231 - val_loss: 0.7845 - val_binary_accuracy: 0.6042 - val_f1_m: 0.6574 - val_precision_m: 0.5919 - val_recall_m: 0.7597\n"
     ]
    },
    {
     "name": "stdout",
     "output_type": "stream",
     "text": [
      "Epoch 12/12\n",
      "12/13 [==========================>...] - ETA: 0s - loss: 0.4629 - binary_accuracy: 0.6927 - f1_m: 0.7504 - precision_m: 0.6053 - recall_m: 1.0000\n",
      "Epoch 12: saving model to weights\\polarity.ckpt\n",
      "13/13 [==============================] - 1s 73ms/step - loss: 0.4618 - binary_accuracy: 0.6935 - f1_m: 0.7696 - precision_m: 0.6357 - recall_m: 1.0000 - val_loss: 0.8471 - val_binary_accuracy: 0.6250 - val_f1_m: 0.6709 - val_precision_m: 0.6116 - val_recall_m: 0.7597\n",
      "Epoch 1/12\n",
      "12/13 [==========================>...] - ETA: 0s - loss: 0.6939 - binary_accuracy: 0.5146 - f1_m: 0.6211 - precision_m: 0.5061 - recall_m: 0.9125\n",
      "Epoch 1: saving model to weights\\polarity.ckpt\n",
      "13/13 [==============================] - 6s 162ms/step - loss: 0.6938 - binary_accuracy: 0.5156 - f1_m: 0.6502 - precision_m: 0.5441 - recall_m: 0.9193 - val_loss: 0.6947 - val_binary_accuracy: 0.4792 - val_f1_m: 0.6314 - val_precision_m: 0.4869 - val_recall_m: 0.9167\n",
      "Epoch 2/12\n",
      "12/13 [==========================>...] - ETA: 0s - loss: 0.6845 - binary_accuracy: 0.6302 - f1_m: 0.7188 - precision_m: 0.5673 - recall_m: 1.0000\n",
      "Epoch 2: saving model to weights\\polarity.ckpt\n",
      "13/13 [==============================] - 1s 83ms/step - loss: 0.6844 - binary_accuracy: 0.6312 - f1_m: 0.7404 - precision_m: 0.6006 - recall_m: 1.0000 - val_loss: 0.6996 - val_binary_accuracy: 0.4896 - val_f1_m: 0.6150 - val_precision_m: 0.4916 - val_recall_m: 0.8355\n",
      "Epoch 3/12\n",
      "13/13 [==============================] - ETA: 0s - loss: 0.6701 - binary_accuracy: 0.6416 - f1_m: 0.7444 - precision_m: 0.6068 - recall_m: 1.0000\n",
      "Epoch 3: saving model to weights\\polarity.ckpt\n",
      "13/13 [==============================] - 1s 82ms/step - loss: 0.6701 - binary_accuracy: 0.6416 - f1_m: 0.7444 - precision_m: 0.6068 - recall_m: 1.0000 - val_loss: 0.6991 - val_binary_accuracy: 0.5104 - val_f1_m: 0.6241 - val_precision_m: 0.5033 - val_recall_m: 0.8355\n",
      "Epoch 4/12\n",
      "13/13 [==============================] - ETA: 0s - loss: 0.6331 - binary_accuracy: 0.6468 - f1_m: 0.6722 - precision_m: 0.6822 - recall_m: 0.8519\n",
      "Epoch 4: saving model to weights\\polarity.ckpt\n",
      "13/13 [==============================] - 1s 83ms/step - loss: 0.6331 - binary_accuracy: 0.6468 - f1_m: 0.6722 - precision_m: 0.6822 - recall_m: 0.8519 - val_loss: 0.7357 - val_binary_accuracy: 0.5312 - val_f1_m: 0.6343 - val_precision_m: 0.5165 - val_recall_m: 0.8355\n",
      "Epoch 5/12\n",
      "12/13 [==========================>...] - ETA: 0s - loss: 0.5892 - binary_accuracy: 0.6823 - f1_m: 0.7488 - precision_m: 0.6064 - recall_m: 1.0000\n",
      "Epoch 5: saving model to weights\\polarity.ckpt\n",
      "13/13 [==============================] - 1s 77ms/step - loss: 0.5887 - binary_accuracy: 0.6831 - f1_m: 0.7681 - precision_m: 0.6366 - recall_m: 1.0000 - val_loss: 0.7140 - val_binary_accuracy: 0.5312 - val_f1_m: 0.6343 - val_precision_m: 0.5165 - val_recall_m: 0.8355\n",
      "Epoch 6/12\n",
      "12/13 [==========================>...] - ETA: 0s - loss: 0.5335 - binary_accuracy: 0.6927 - f1_m: 0.7263 - precision_m: 0.6494 - recall_m: 0.9306\n",
      "Epoch 6: saving model to weights\\polarity.ckpt\n",
      "13/13 [==============================] - 1s 77ms/step - loss: 0.5330 - binary_accuracy: 0.6935 - f1_m: 0.7473 - precision_m: 0.6764 - recall_m: 0.9359 - val_loss: 0.7211 - val_binary_accuracy: 0.5104 - val_f1_m: 0.6316 - val_precision_m: 0.5062 - val_recall_m: 0.8577\n",
      "Epoch 7/12\n",
      "13/13 [==============================] - ETA: 0s - loss: 0.5067 - binary_accuracy: 0.7091 - f1_m: 0.7052 - precision_m: 0.5799 - recall_m: 0.9231\n",
      "Epoch 7: saving model to weights\\polarity.ckpt\n",
      "13/13 [==============================] - 1s 87ms/step - loss: 0.5067 - binary_accuracy: 0.7091 - f1_m: 0.7052 - precision_m: 0.5799 - recall_m: 0.9231 - val_loss: 0.7446 - val_binary_accuracy: 0.5312 - val_f1_m: 0.6222 - val_precision_m: 0.5177 - val_recall_m: 0.7966\n",
      "Epoch 8/12\n",
      "12/13 [==========================>...] - ETA: 0s - loss: 0.4796 - binary_accuracy: 0.7240 - f1_m: 0.6931 - precision_m: 0.7738 - recall_m: 0.7781\n",
      "Epoch 8: saving model to weights\\polarity.ckpt\n",
      "13/13 [==============================] - 1s 77ms/step - loss: 0.4806 - binary_accuracy: 0.7221 - f1_m: 0.6398 - precision_m: 0.7143 - recall_m: 0.7183 - val_loss: 0.7032 - val_binary_accuracy: 0.5208 - val_f1_m: 0.6250 - val_precision_m: 0.5118 - val_recall_m: 0.8188\n",
      "Epoch 9/12\n",
      "12/13 [==========================>...] - ETA: 0s - loss: 0.4639 - binary_accuracy: 0.7188 - f1_m: 0.7744 - precision_m: 0.6346 - recall_m: 1.0000\n",
      "Epoch 9: saving model to weights\\polarity.ckpt\n",
      "13/13 [==============================] - 1s 78ms/step - loss: 0.4647 - binary_accuracy: 0.7169 - f1_m: 0.7149 - precision_m: 0.5858 - recall_m: 0.9231 - val_loss: 0.7043 - val_binary_accuracy: 0.5000 - val_f1_m: 0.6053 - val_precision_m: 0.5011 - val_recall_m: 0.7855\n",
      "Epoch 10/12\n",
      "13/13 [==============================] - ETA: 0s - loss: 0.4493 - binary_accuracy: 0.7039 - f1_m: 0.5376 - precision_m: 0.8458 - recall_m: 0.4704\n",
      "Epoch 10: saving model to weights\\polarity.ckpt\n",
      "13/13 [==============================] - 1s 81ms/step - loss: 0.4493 - binary_accuracy: 0.7039 - f1_m: 0.5376 - precision_m: 0.8458 - recall_m: 0.4704 - val_loss: 0.7453 - val_binary_accuracy: 0.4896 - val_f1_m: 0.1000 - val_precision_m: 0.2000 - val_recall_m: 0.0667\n",
      "Epoch 11/12\n",
      "13/13 [==============================] - ETA: 0s - loss: 0.4510 - binary_accuracy: 0.6883 - f1_m: 0.5873 - precision_m: 0.9421 - recall_m: 0.4986\n",
      "Epoch 11: saving model to weights\\polarity.ckpt\n",
      "13/13 [==============================] - 1s 80ms/step - loss: 0.4510 - binary_accuracy: 0.6883 - f1_m: 0.5873 - precision_m: 0.9421 - recall_m: 0.4986 - val_loss: 0.7649 - val_binary_accuracy: 0.4896 - val_f1_m: 0.6054 - val_precision_m: 0.4956 - val_recall_m: 0.8021\n",
      "Epoch 12/12\n",
      "13/13 [==============================] - ETA: 0s - loss: 0.4422 - binary_accuracy: 0.7169 - f1_m: 0.7876 - precision_m: 0.6587 - recall_m: 1.0000\n",
      "Epoch 12: saving model to weights\\polarity.ckpt\n",
      "13/13 [==============================] - 1s 79ms/step - loss: 0.4422 - binary_accuracy: 0.7169 - f1_m: 0.7876 - precision_m: 0.6587 - recall_m: 1.0000 - val_loss: 0.7495 - val_binary_accuracy: 0.5208 - val_f1_m: 0.6250 - val_precision_m: 0.5118 - val_recall_m: 0.8188\n",
      "Epoch 1/12\n",
      "12/13 [==========================>...] - ETA: 0s - loss: 0.6934 - binary_accuracy: 0.5021 - f1_m: 0.2337 - precision_m: 0.2078 - recall_m: 0.2798\n",
      "Epoch 1: saving model to weights\\polarity.ckpt\n",
      "13/13 [==============================] - 6s 171ms/step - loss: 0.6935 - binary_accuracy: 0.5010 - f1_m: 0.2157 - precision_m: 0.1918 - recall_m: 0.2583 - val_loss: 0.6880 - val_binary_accuracy: 0.5833 - val_f1_m: 0.6288 - val_precision_m: 0.5224 - val_recall_m: 0.7905\n",
      "Epoch 2/12\n",
      "12/13 [==========================>...] - ETA: 0s - loss: 0.6841 - binary_accuracy: 0.6641 - f1_m: 0.7346 - precision_m: 0.6020 - recall_m: 0.9585\n",
      "Epoch 2: saving model to weights\\polarity.ckpt\n",
      "13/13 [==============================] - 1s 79ms/step - loss: 0.6841 - binary_accuracy: 0.6649 - f1_m: 0.6781 - precision_m: 0.5557 - recall_m: 0.8848 - val_loss: 0.6892 - val_binary_accuracy: 0.5938 - val_f1_m: 0.6540 - val_precision_m: 0.5278 - val_recall_m: 0.8603\n",
      "Epoch 3/12\n",
      "13/13 [==============================] - ETA: 0s - loss: 0.6677 - binary_accuracy: 0.6805 - f1_m: 0.6842 - precision_m: 0.5685 - recall_m: 0.8836\n",
      "Epoch 3: saving model to weights\\polarity.ckpt\n",
      "13/13 [==============================] - 1s 75ms/step - loss: 0.6677 - binary_accuracy: 0.6805 - f1_m: 0.6842 - precision_m: 0.5685 - recall_m: 0.8836 - val_loss: 0.6789 - val_binary_accuracy: 0.5521 - val_f1_m: 0.0000e+00 - val_precision_m: 0.0000e+00 - val_recall_m: 0.0000e+00\n",
      "Epoch 4/12\n",
      "13/13 [==============================] - ETA: 0s - loss: 0.6141 - binary_accuracy: 0.6182 - f1_m: 0.4097 - precision_m: 1.0000 - recall_m: 0.2840\n",
      "Epoch 4: saving model to weights\\polarity.ckpt\n",
      "13/13 [==============================] - 1s 79ms/step - loss: 0.6141 - binary_accuracy: 0.6182 - f1_m: 0.4097 - precision_m: 1.0000 - recall_m: 0.2840 - val_loss: 0.7812 - val_binary_accuracy: 0.5938 - val_f1_m: 0.6405 - val_precision_m: 0.5299 - val_recall_m: 0.8127\n",
      "Epoch 5/12\n"
     ]
    },
    {
     "name": "stdout",
     "output_type": "stream",
     "text": [
      "13/13 [==============================] - ETA: 0s - loss: 0.5671 - binary_accuracy: 0.6831 - f1_m: 0.7665 - precision_m: 0.6388 - recall_m: 0.9828\n",
      "Epoch 5: saving model to weights\\polarity.ckpt\n",
      "13/13 [==============================] - 1s 77ms/step - loss: 0.5671 - binary_accuracy: 0.6831 - f1_m: 0.7665 - precision_m: 0.6388 - recall_m: 0.9828 - val_loss: 0.6876 - val_binary_accuracy: 0.5938 - val_f1_m: 0.6662 - val_precision_m: 0.5272 - val_recall_m: 0.9063\n",
      "Epoch 6/12\n",
      "13/13 [==============================] - ETA: 0s - loss: 0.5039 - binary_accuracy: 0.7039 - f1_m: 0.7779 - precision_m: 0.6496 - recall_m: 1.0000\n",
      "Epoch 6: saving model to weights\\polarity.ckpt\n",
      "13/13 [==============================] - 1s 81ms/step - loss: 0.5039 - binary_accuracy: 0.7039 - f1_m: 0.7779 - precision_m: 0.6496 - recall_m: 1.0000 - val_loss: 0.6944 - val_binary_accuracy: 0.5625 - val_f1_m: 0.6250 - val_precision_m: 0.5085 - val_recall_m: 0.8159\n",
      "Epoch 7/12\n",
      "12/13 [==========================>...] - ETA: 0s - loss: 0.4762 - binary_accuracy: 0.7005 - f1_m: 0.7602 - precision_m: 0.6241 - recall_m: 0.9944\n",
      "Epoch 7: saving model to weights\\polarity.ckpt\n",
      "13/13 [==============================] - 1s 79ms/step - loss: 0.4766 - binary_accuracy: 0.7013 - f1_m: 0.7787 - precision_m: 0.6530 - recall_m: 0.9949 - val_loss: 0.7229 - val_binary_accuracy: 0.5312 - val_f1_m: 0.6088 - val_precision_m: 0.4867 - val_recall_m: 0.8143\n",
      "Epoch 8/12\n",
      "12/13 [==========================>...] - ETA: 0s - loss: 0.4781 - binary_accuracy: 0.7057 - f1_m: 0.7645 - precision_m: 0.6266 - recall_m: 0.9944\n",
      "Epoch 8: saving model to weights\\polarity.ckpt\n",
      "13/13 [==============================] - 1s 78ms/step - loss: 0.4788 - binary_accuracy: 0.7039 - f1_m: 0.7057 - precision_m: 0.5784 - recall_m: 0.9179 - val_loss: 0.6672 - val_binary_accuracy: 0.5417 - val_f1_m: 0.6076 - val_precision_m: 0.4940 - val_recall_m: 0.7905\n",
      "Epoch 9/12\n",
      "13/13 [==============================] - ETA: 0s - loss: 0.4541 - binary_accuracy: 0.6831 - f1_m: 0.5595 - precision_m: 0.9763 - recall_m: 0.4407\n",
      "Epoch 9: saving model to weights\\polarity.ckpt\n",
      "13/13 [==============================] - 1s 79ms/step - loss: 0.4541 - binary_accuracy: 0.6831 - f1_m: 0.5595 - precision_m: 0.9763 - recall_m: 0.4407 - val_loss: 0.6875 - val_binary_accuracy: 0.5417 - val_f1_m: 0.6212 - val_precision_m: 0.4939 - val_recall_m: 0.8381\n",
      "Epoch 10/12\n",
      "13/13 [==============================] - ETA: 0s - loss: 0.4467 - binary_accuracy: 0.7039 - f1_m: 0.6916 - precision_m: 0.6082 - recall_m: 0.8745\n",
      "Epoch 10: saving model to weights\\polarity.ckpt\n",
      "13/13 [==============================] - 1s 83ms/step - loss: 0.4467 - binary_accuracy: 0.7039 - f1_m: 0.6916 - precision_m: 0.6082 - recall_m: 0.8745 - val_loss: 0.7531 - val_binary_accuracy: 0.5104 - val_f1_m: 0.1053 - val_precision_m: 0.2000 - val_recall_m: 0.0714\n",
      "Epoch 11/12\n",
      "13/13 [==============================] - ETA: 0s - loss: 0.4497 - binary_accuracy: 0.6727 - f1_m: 0.5250 - precision_m: 1.0000 - recall_m: 0.3825\n",
      "Epoch 11: saving model to weights\\polarity.ckpt\n",
      "13/13 [==============================] - 1s 89ms/step - loss: 0.4497 - binary_accuracy: 0.6727 - f1_m: 0.5250 - precision_m: 1.0000 - recall_m: 0.3825 - val_loss: 0.7939 - val_binary_accuracy: 0.5833 - val_f1_m: 0.6299 - val_precision_m: 0.5246 - val_recall_m: 0.7921\n",
      "Epoch 12/12\n",
      "13/13 [==============================] - ETA: 0s - loss: 0.4438 - binary_accuracy: 0.7117 - f1_m: 0.7887 - precision_m: 0.6589 - recall_m: 1.0000\n",
      "Epoch 12: saving model to weights\\polarity.ckpt\n",
      "13/13 [==============================] - 1s 77ms/step - loss: 0.4438 - binary_accuracy: 0.7117 - f1_m: 0.7887 - precision_m: 0.6589 - recall_m: 1.0000 - val_loss: 0.8104 - val_binary_accuracy: 0.5938 - val_f1_m: 0.6424 - val_precision_m: 0.5318 - val_recall_m: 0.8143\n"
     ]
    }
   ],
   "source": [
    "from sklearn.model_selection import KFold\n",
    "acc = []\n",
    "cv = KFold(n_splits=5, shuffle=True, random_state=42)\n",
    "k_train = np.concatenate((x, x_val), axis=0)\n",
    "k_labels = np.concatenate((y, y_val), axis=0)\n",
    "for train_idx, test_idx in cv.split(k_train,k_labels):\n",
    "    \n",
    "        x_train, y_train  = k_train[train_idx],k_labels[train_idx]\n",
    "        x_val, y_val= k_train[test_idx], k_labels[test_idx]\n",
    "        \n",
    "        acc_ = []\n",
    "\n",
    "        model = build_LSTM()\n",
    "\n",
    "        history = model.fit(x_train, y_train , validation_data=[x_val, y_val],\n",
    "                               epochs=12,\n",
    "                               class_weight=compute_class_weights(y_train),\n",
    "                               callbacks=[cp_callback])\n",
    "\n",
    "        acc_.append(history.history['val_binary_accuracy'][-1])\n",
    "        \n",
    "        acc.append(acc_)\n",
    "    \n",
    "cv_acc = np.mean(np.array(acc), axis = 0)"
   ]
  },
  {
   "cell_type": "code",
   "execution_count": 21,
   "id": "98721acb",
   "metadata": {},
   "outputs": [
    {
     "name": "stdout",
     "output_type": "stream",
     "text": [
      "4/4 [==============================] - 2s 44ms/step - loss: 0.9710 - binary_accuracy: 0.5868 - f1_m: 0.6684 - precision_m: 0.5982 - recall_m: 0.7602\n"
     ]
    },
    {
     "data": {
      "text/plain": [
       "[0.9710254669189453,\n",
       " 0.586776852607727,\n",
       " 0.6683982610702515,\n",
       " 0.5982456207275391,\n",
       " 0.7601503729820251]"
      ]
     },
     "execution_count": 21,
     "metadata": {},
     "output_type": "execute_result"
    }
   ],
   "source": [
    "model.evaluate(x_test, y_test)"
   ]
  },
  {
   "cell_type": "markdown",
   "id": "b5b381b8",
   "metadata": {},
   "source": [
    "### Training Attention based BiLSTM model"
   ]
  },
  {
   "cell_type": "code",
   "execution_count": 22,
   "id": "7c09d8a1",
   "metadata": {},
   "outputs": [
    {
     "name": "stdout",
     "output_type": "stream",
     "text": [
      "Epoch 1/12\n",
      "12/12 [==============================] - ETA: 0s - loss: 0.6902 - binary_accuracy: 0.5545 - f1_m: 0.4961 - precision_m: 0.4048 - recall_m: 0.6514\n",
      "Epoch 1: saving model to weights\\polarity.ckpt\n",
      "12/12 [==============================] - 6s 192ms/step - loss: 0.6902 - binary_accuracy: 0.5545 - f1_m: 0.4961 - precision_m: 0.4048 - recall_m: 0.6514 - val_loss: 0.7098 - val_binary_accuracy: 0.5104 - val_f1_m: 0.5718 - val_precision_m: 0.4405 - val_recall_m: 0.8337\n",
      "Epoch 2/12\n",
      "11/12 [==========================>...] - ETA: 0s - loss: 0.6851 - binary_accuracy: 0.5767 - f1_m: 0.6478 - precision_m: 0.5516 - recall_m: 0.8040\n",
      "Epoch 2: saving model to weights\\polarity.ckpt\n",
      "12/12 [==============================] - 1s 95ms/step - loss: 0.6824 - binary_accuracy: 0.5885 - f1_m: 0.6579 - precision_m: 0.5600 - recall_m: 0.8151 - val_loss: 0.6922 - val_binary_accuracy: 0.5104 - val_f1_m: 0.5481 - val_precision_m: 0.4324 - val_recall_m: 0.7550\n",
      "Epoch 3/12\n",
      "11/12 [==========================>...] - ETA: 0s - loss: 0.6646 - binary_accuracy: 0.5767 - f1_m: 0.6427 - precision_m: 0.5467 - recall_m: 0.7865\n",
      "Epoch 3: saving model to weights\\polarity.ckpt\n",
      "12/12 [==============================] - 1s 91ms/step - loss: 0.6587 - binary_accuracy: 0.5859 - f1_m: 0.6526 - precision_m: 0.5591 - recall_m: 0.7912 - val_loss: 0.6774 - val_binary_accuracy: 0.5104 - val_f1_m: 0.5333 - val_precision_m: 0.4307 - val_recall_m: 0.7103\n",
      "Epoch 4/12\n",
      "12/12 [==============================] - ETA: 0s - loss: 0.5665 - binary_accuracy: 0.6406 - f1_m: 0.6966 - precision_m: 0.5993 - recall_m: 0.8381\n",
      "Epoch 4: saving model to weights\\polarity.ckpt\n",
      "12/12 [==============================] - 1s 90ms/step - loss: 0.5665 - binary_accuracy: 0.6406 - f1_m: 0.6966 - precision_m: 0.5993 - recall_m: 0.8381 - val_loss: 0.6720 - val_binary_accuracy: 0.5312 - val_f1_m: 0.5725 - val_precision_m: 0.4463 - val_recall_m: 0.8026\n",
      "Epoch 5/12\n",
      "11/12 [==========================>...] - ETA: 0s - loss: 0.5201 - binary_accuracy: 0.6932 - f1_m: 0.7563 - precision_m: 0.6140 - recall_m: 0.9939\n",
      "Epoch 5: saving model to weights\\polarity.ckpt\n",
      "12/12 [==============================] - 1s 92ms/step - loss: 0.5260 - binary_accuracy: 0.6849 - f1_m: 0.7365 - precision_m: 0.6461 - recall_m: 0.9403 - val_loss: 0.6240 - val_binary_accuracy: 0.5833 - val_f1_m: 0.6387 - val_precision_m: 0.4898 - val_recall_m: 0.9345\n",
      "Epoch 6/12\n",
      "12/12 [==============================] - ETA: 0s - loss: 0.5060 - binary_accuracy: 0.7109 - f1_m: 0.7732 - precision_m: 0.6344 - recall_m: 1.0000\n",
      "Epoch 6: saving model to weights\\polarity.ckpt\n",
      "12/12 [==============================] - 1s 94ms/step - loss: 0.5060 - binary_accuracy: 0.7109 - f1_m: 0.7732 - precision_m: 0.6344 - recall_m: 1.0000 - val_loss: 0.7072 - val_binary_accuracy: 0.4896 - val_f1_m: 0.6026 - val_precision_m: 0.4413 - val_recall_m: 0.9792\n",
      "Epoch 7/12\n",
      "12/12 [==============================] - ETA: 0s - loss: 0.5045 - binary_accuracy: 0.7188 - f1_m: 0.7802 - precision_m: 0.6416 - recall_m: 1.0000\n",
      "Epoch 7: saving model to weights\\polarity.ckpt\n",
      "12/12 [==============================] - 1s 89ms/step - loss: 0.5045 - binary_accuracy: 0.7188 - f1_m: 0.7802 - precision_m: 0.6416 - recall_m: 1.0000 - val_loss: 0.6471 - val_binary_accuracy: 0.5625 - val_f1_m: 0.6374 - val_precision_m: 0.4769 - val_recall_m: 0.9792\n",
      "Epoch 8/12\n",
      "11/12 [==========================>...] - ETA: 0s - loss: 0.4747 - binary_accuracy: 0.7188 - f1_m: 0.7473 - precision_m: 0.6741 - recall_m: 0.9351\n",
      "Epoch 8: saving model to weights\\polarity.ckpt\n",
      "12/12 [==============================] - 1s 96ms/step - loss: 0.4739 - binary_accuracy: 0.7240 - f1_m: 0.7565 - precision_m: 0.6805 - recall_m: 0.9405 - val_loss: 0.6699 - val_binary_accuracy: 0.5208 - val_f1_m: 0.6165 - val_precision_m: 0.4549 - val_recall_m: 0.9792\n",
      "Epoch 9/12\n",
      "12/12 [==============================] - ETA: 0s - loss: 0.4681 - binary_accuracy: 0.7240 - f1_m: 0.7819 - precision_m: 0.6467 - recall_m: 1.0000\n",
      "Epoch 9: saving model to weights\\polarity.ckpt\n",
      "12/12 [==============================] - 1s 91ms/step - loss: 0.4681 - binary_accuracy: 0.7240 - f1_m: 0.7819 - precision_m: 0.6467 - recall_m: 1.0000 - val_loss: 0.6670 - val_binary_accuracy: 0.5208 - val_f1_m: 0.6165 - val_precision_m: 0.4549 - val_recall_m: 0.9792\n",
      "Epoch 10/12\n",
      "12/12 [==============================] - ETA: 0s - loss: 0.4512 - binary_accuracy: 0.7240 - f1_m: 0.7832 - precision_m: 0.6488 - recall_m: 1.0000\n",
      "Epoch 10: saving model to weights\\polarity.ckpt\n",
      "12/12 [==============================] - 1s 98ms/step - loss: 0.4512 - binary_accuracy: 0.7240 - f1_m: 0.7832 - precision_m: 0.6488 - recall_m: 1.0000 - val_loss: 0.7286 - val_binary_accuracy: 0.5208 - val_f1_m: 0.6165 - val_precision_m: 0.4549 - val_recall_m: 0.9792\n",
      "Epoch 11/12\n",
      "12/12 [==============================] - ETA: 0s - loss: 0.4471 - binary_accuracy: 0.7240 - f1_m: 0.7795 - precision_m: 0.6424 - recall_m: 1.0000\n",
      "Epoch 11: saving model to weights\\polarity.ckpt\n",
      "12/12 [==============================] - 1s 99ms/step - loss: 0.4471 - binary_accuracy: 0.7240 - f1_m: 0.7795 - precision_m: 0.6424 - recall_m: 1.0000 - val_loss: 0.8243 - val_binary_accuracy: 0.4792 - val_f1_m: 0.5975 - val_precision_m: 0.4368 - val_recall_m: 0.9792\n",
      "Epoch 12/12\n",
      "12/12 [==============================] - ETA: 0s - loss: 0.4445 - binary_accuracy: 0.7266 - f1_m: 0.7715 - precision_m: 0.6413 - recall_m: 1.0000\n",
      "Epoch 12: saving model to weights\\polarity.ckpt\n",
      "12/12 [==============================] - 1s 91ms/step - loss: 0.4445 - binary_accuracy: 0.7266 - f1_m: 0.7715 - precision_m: 0.6413 - recall_m: 1.0000 - val_loss: 0.8137 - val_binary_accuracy: 0.4896 - val_f1_m: 0.6018 - val_precision_m: 0.4405 - val_recall_m: 0.9792\n",
      "Epoch 1/12\n",
      "12/12 [==============================] - ETA: 0s - loss: 0.6902 - binary_accuracy: 0.4938 - f1_m: 0.5809 - precision_m: 0.4542 - recall_m: 0.8305     \n",
      "Epoch 1: saving model to weights\\polarity.ckpt\n",
      "12/12 [==============================] - 6s 217ms/step - loss: 0.6902 - binary_accuracy: 0.4938 - f1_m: 0.5809 - precision_m: 0.4542 - recall_m: 0.8305 - val_loss: 0.7012 - val_binary_accuracy: 0.4896 - val_f1_m: 0.5764 - val_precision_m: 0.4750 - val_recall_m: 0.7477\n",
      "Epoch 2/12\n",
      "12/12 [==============================] - ETA: 0s - loss: 0.6795 - binary_accuracy: 0.5859 - f1_m: 0.6515 - precision_m: 0.5473 - recall_m: 0.8185\n",
      "Epoch 2: saving model to weights\\polarity.ckpt\n",
      "12/12 [==============================] - 1s 102ms/step - loss: 0.6795 - binary_accuracy: 0.5859 - f1_m: 0.6515 - precision_m: 0.5473 - recall_m: 0.8185 - val_loss: 0.7012 - val_binary_accuracy: 0.4792 - val_f1_m: 0.5638 - val_precision_m: 0.4674 - val_recall_m: 0.7220\n",
      "Epoch 3/12\n",
      "12/12 [==============================] - ETA: 0s - loss: 0.6545 - binary_accuracy: 0.5964 - f1_m: 0.6440 - precision_m: 0.5518 - recall_m: 0.7926\n",
      "Epoch 3: saving model to weights\\polarity.ckpt\n",
      "12/12 [==============================] - 1s 107ms/step - loss: 0.6545 - binary_accuracy: 0.5964 - f1_m: 0.6440 - precision_m: 0.5518 - recall_m: 0.7926 - val_loss: 0.7455 - val_binary_accuracy: 0.5000 - val_f1_m: 0.5657 - val_precision_m: 0.4804 - val_recall_m: 0.6964\n",
      "Epoch 4/12\n",
      "12/12 [==============================] - ETA: 0s - loss: 0.5746 - binary_accuracy: 0.6510 - f1_m: 0.7036 - precision_m: 0.5952 - recall_m: 0.8722\n",
      "Epoch 4: saving model to weights\\polarity.ckpt\n",
      "12/12 [==============================] - 1s 110ms/step - loss: 0.5746 - binary_accuracy: 0.6510 - f1_m: 0.7036 - precision_m: 0.5952 - recall_m: 0.8722 - val_loss: 0.8804 - val_binary_accuracy: 0.5417 - val_f1_m: 0.0444 - val_precision_m: 0.3333 - val_recall_m: 0.0238\n",
      "Epoch 5/12\n",
      "12/12 [==============================] - ETA: 0s - loss: 0.5208 - binary_accuracy: 0.7109 - f1_m: 0.7196 - precision_m: 0.6696 - recall_m: 0.9138\n",
      "Epoch 5: saving model to weights\\polarity.ckpt\n",
      "12/12 [==============================] - 1s 98ms/step - loss: 0.5208 - binary_accuracy: 0.7109 - f1_m: 0.7196 - precision_m: 0.6696 - recall_m: 0.9138 - val_loss: 0.8949 - val_binary_accuracy: 0.4792 - val_f1_m: 0.5465 - val_precision_m: 0.4650 - val_recall_m: 0.6744\n",
      "Epoch 6/12\n"
     ]
    },
    {
     "name": "stdout",
     "output_type": "stream",
     "text": [
      "12/12 [==============================] - ETA: 0s - loss: 0.4851 - binary_accuracy: 0.7240 - f1_m: 0.7794 - precision_m: 0.6414 - recall_m: 1.0000\n",
      "Epoch 6: saving model to weights\\polarity.ckpt\n",
      "12/12 [==============================] - 1s 100ms/step - loss: 0.4851 - binary_accuracy: 0.7240 - f1_m: 0.7794 - precision_m: 0.6414 - recall_m: 1.0000 - val_loss: 1.0847 - val_binary_accuracy: 0.4688 - val_f1_m: 0.5228 - val_precision_m: 0.4518 - val_recall_m: 0.6321\n",
      "Epoch 7/12\n",
      "12/12 [==============================] - ETA: 0s - loss: 0.4769 - binary_accuracy: 0.7266 - f1_m: 0.7721 - precision_m: 0.6349 - recall_m: 1.0000\n",
      "Epoch 7: saving model to weights\\polarity.ckpt\n",
      "12/12 [==============================] - 1s 88ms/step - loss: 0.4769 - binary_accuracy: 0.7266 - f1_m: 0.7721 - precision_m: 0.6349 - recall_m: 1.0000 - val_loss: 1.1674 - val_binary_accuracy: 0.4896 - val_f1_m: 0.5510 - val_precision_m: 0.4694 - val_recall_m: 0.6815\n",
      "Epoch 8/12\n",
      "12/12 [==============================] - ETA: 0s - loss: 0.4796 - binary_accuracy: 0.7057 - f1_m: 0.7031 - precision_m: 0.6953 - recall_m: 0.8730\n",
      "Epoch 8: saving model to weights\\polarity.ckpt\n",
      "12/12 [==============================] - 1s 94ms/step - loss: 0.4796 - binary_accuracy: 0.7057 - f1_m: 0.7031 - precision_m: 0.6953 - recall_m: 0.8730 - val_loss: 1.0658 - val_binary_accuracy: 0.4792 - val_f1_m: 0.5700 - val_precision_m: 0.4655 - val_recall_m: 0.7477\n",
      "Epoch 9/12\n",
      "12/12 [==============================] - ETA: 0s - loss: 0.4897 - binary_accuracy: 0.7161 - f1_m: 0.7710 - precision_m: 0.6336 - recall_m: 1.0000\n",
      "Epoch 9: saving model to weights\\polarity.ckpt\n",
      "12/12 [==============================] - 1s 112ms/step - loss: 0.4897 - binary_accuracy: 0.7161 - f1_m: 0.7710 - precision_m: 0.6336 - recall_m: 1.0000 - val_loss: 0.9291 - val_binary_accuracy: 0.5000 - val_f1_m: 0.5940 - val_precision_m: 0.4800 - val_recall_m: 0.7900\n",
      "Epoch 10/12\n",
      "12/12 [==============================] - ETA: 0s - loss: 0.4600 - binary_accuracy: 0.7240 - f1_m: 0.7776 - precision_m: 0.6411 - recall_m: 1.0000\n",
      "Epoch 10: saving model to weights\\polarity.ckpt\n",
      "12/12 [==============================] - 1s 104ms/step - loss: 0.4600 - binary_accuracy: 0.7240 - f1_m: 0.7776 - precision_m: 0.6411 - recall_m: 1.0000 - val_loss: 0.9007 - val_binary_accuracy: 0.4792 - val_f1_m: 0.5686 - val_precision_m: 0.4648 - val_recall_m: 0.7424\n",
      "Epoch 11/12\n",
      "12/12 [==============================] - ETA: 0s - loss: 0.4508 - binary_accuracy: 0.7240 - f1_m: 0.7739 - precision_m: 0.6366 - recall_m: 1.0000\n",
      "Epoch 11: saving model to weights\\polarity.ckpt\n",
      "12/12 [==============================] - 1s 107ms/step - loss: 0.4508 - binary_accuracy: 0.7240 - f1_m: 0.7739 - precision_m: 0.6366 - recall_m: 1.0000 - val_loss: 0.9408 - val_binary_accuracy: 0.5000 - val_f1_m: 0.5938 - val_precision_m: 0.4799 - val_recall_m: 0.7918\n",
      "Epoch 12/12\n",
      "12/12 [==============================] - ETA: 0s - loss: 0.4471 - binary_accuracy: 0.7240 - f1_m: 0.7764 - precision_m: 0.6392 - recall_m: 1.0000\n",
      "Epoch 12: saving model to weights\\polarity.ckpt\n",
      "12/12 [==============================] - 1s 113ms/step - loss: 0.4471 - binary_accuracy: 0.7240 - f1_m: 0.7764 - precision_m: 0.6392 - recall_m: 1.0000 - val_loss: 0.9400 - val_binary_accuracy: 0.4896 - val_f1_m: 0.5808 - val_precision_m: 0.4720 - val_recall_m: 0.7680\n",
      "Epoch 1/12\n",
      "11/12 [==========================>...] - ETA: 0s - loss: 0.6931 - binary_accuracy: 0.5201 - f1_m: 0.6158 - precision_m: 0.4871 - recall_m: 0.8560\n",
      "Epoch 1: saving model to weights\\polarity.ckpt\n",
      "12/12 [==============================] - 5s 178ms/step - loss: 0.6915 - binary_accuracy: 0.5354 - f1_m: 0.6319 - precision_m: 0.5056 - recall_m: 0.8633 - val_loss: 0.6844 - val_binary_accuracy: 0.5521 - val_f1_m: 0.6368 - val_precision_m: 0.5828 - val_recall_m: 0.7259\n",
      "Epoch 2/12\n",
      "11/12 [==========================>...] - ETA: 0s - loss: 0.6821 - binary_accuracy: 0.5625 - f1_m: 0.6235 - precision_m: 0.5137 - recall_m: 0.8082\n",
      "Epoch 2: saving model to weights\\polarity.ckpt\n",
      "12/12 [==============================] - 1s 79ms/step - loss: 0.6818 - binary_accuracy: 0.5651 - f1_m: 0.6271 - precision_m: 0.5180 - recall_m: 0.8086 - val_loss: 0.6823 - val_binary_accuracy: 0.5625 - val_f1_m: 0.6385 - val_precision_m: 0.5970 - val_recall_m: 0.7114\n",
      "Epoch 3/12\n",
      "11/12 [==========================>...] - ETA: 0s - loss: 0.6637 - binary_accuracy: 0.5852 - f1_m: 0.6419 - precision_m: 0.5372 - recall_m: 0.8272\n",
      "Epoch 3: saving model to weights\\polarity.ckpt\n",
      "12/12 [==============================] - 1s 86ms/step - loss: 0.6662 - binary_accuracy: 0.5755 - f1_m: 0.6313 - precision_m: 0.5251 - recall_m: 0.8208 - val_loss: 0.6792 - val_binary_accuracy: 0.5729 - val_f1_m: 0.6435 - val_precision_m: 0.6035 - val_recall_m: 0.7114\n",
      "Epoch 4/12\n",
      "12/12 [==============================] - ETA: 0s - loss: 0.5854 - binary_accuracy: 0.5859 - f1_m: 0.5720 - precision_m: 0.6089 - recall_m: 0.7338\n",
      "Epoch 4: saving model to weights\\polarity.ckpt\n",
      "12/12 [==============================] - 1s 82ms/step - loss: 0.5854 - binary_accuracy: 0.5859 - f1_m: 0.5720 - precision_m: 0.6089 - recall_m: 0.7338 - val_loss: 0.8013 - val_binary_accuracy: 0.5833 - val_f1_m: 0.6333 - val_precision_m: 0.6225 - val_recall_m: 0.6713\n",
      "Epoch 5/12\n",
      "11/12 [==========================>...] - ETA: 0s - loss: 0.5201 - binary_accuracy: 0.6903 - f1_m: 0.7410 - precision_m: 0.5975 - recall_m: 0.9930\n",
      "Epoch 5: saving model to weights\\polarity.ckpt\n",
      "12/12 [==============================] - 1s 85ms/step - loss: 0.5261 - binary_accuracy: 0.6875 - f1_m: 0.7431 - precision_m: 0.5995 - recall_m: 0.9936 - val_loss: 1.0258 - val_binary_accuracy: 0.5729 - val_f1_m: 0.6475 - val_precision_m: 0.5984 - val_recall_m: 0.7300\n",
      "Epoch 6/12\n",
      "11/12 [==========================>...] - ETA: 0s - loss: 0.4987 - binary_accuracy: 0.7017 - f1_m: 0.7534 - precision_m: 0.6103 - recall_m: 1.0000\n",
      "Epoch 6: saving model to weights\\polarity.ckpt\n",
      "12/12 [==============================] - 1s 82ms/step - loss: 0.5017 - binary_accuracy: 0.6953 - f1_m: 0.7462 - precision_m: 0.6011 - recall_m: 1.0000 - val_loss: 1.0867 - val_binary_accuracy: 0.5417 - val_f1_m: 0.6364 - val_precision_m: 0.5737 - val_recall_m: 0.7445\n",
      "Epoch 7/12\n",
      "12/12 [==============================] - ETA: 0s - loss: 0.4891 - binary_accuracy: 0.6979 - f1_m: 0.7501 - precision_m: 0.6108 - recall_m: 1.0000\n",
      "Epoch 7: saving model to weights\\polarity.ckpt\n",
      "12/12 [==============================] - 1s 78ms/step - loss: 0.4891 - binary_accuracy: 0.6979 - f1_m: 0.7501 - precision_m: 0.6108 - recall_m: 1.0000 - val_loss: 1.0223 - val_binary_accuracy: 0.5833 - val_f1_m: 0.6781 - val_precision_m: 0.5956 - val_recall_m: 0.8216\n",
      "Epoch 8/12\n",
      "12/12 [==============================] - ETA: 0s - loss: 0.4738 - binary_accuracy: 0.6875 - f1_m: 0.7154 - precision_m: 0.6330 - recall_m: 0.9375\n",
      "Epoch 8: saving model to weights\\polarity.ckpt\n",
      "12/12 [==============================] - 1s 83ms/step - loss: 0.4738 - binary_accuracy: 0.6875 - f1_m: 0.7154 - precision_m: 0.6330 - recall_m: 0.9375 - val_loss: 0.8982 - val_binary_accuracy: 0.5417 - val_f1_m: 0.6726 - val_precision_m: 0.5683 - val_recall_m: 0.8651\n",
      "Epoch 9/12\n",
      "11/12 [==========================>...] - ETA: 0s - loss: 0.5042 - binary_accuracy: 0.6932 - f1_m: 0.7515 - precision_m: 0.6059 - recall_m: 1.0000\n",
      "Epoch 9: saving model to weights\\polarity.ckpt\n",
      "12/12 [==============================] - 1s 78ms/step - loss: 0.5018 - binary_accuracy: 0.6901 - f1_m: 0.7460 - precision_m: 0.5989 - recall_m: 1.0000 - val_loss: 0.8144 - val_binary_accuracy: 0.5417 - val_f1_m: 0.6790 - val_precision_m: 0.5658 - val_recall_m: 0.8907\n",
      "Epoch 10/12\n",
      "12/12 [==============================] - ETA: 0s - loss: 0.4577 - binary_accuracy: 0.6953 - f1_m: 0.7500 - precision_m: 0.6039 - recall_m: 1.0000\n",
      "Epoch 10: saving model to weights\\polarity.ckpt\n",
      "12/12 [==============================] - 1s 82ms/step - loss: 0.4577 - binary_accuracy: 0.6953 - f1_m: 0.7500 - precision_m: 0.6039 - recall_m: 1.0000 - val_loss: 0.9006 - val_binary_accuracy: 0.6042 - val_f1_m: 0.7118 - val_precision_m: 0.6016 - val_recall_m: 0.9052\n",
      "Epoch 11/12\n",
      "12/12 [==============================] - ETA: 0s - loss: 0.4565 - binary_accuracy: 0.7005 - f1_m: 0.7489 - precision_m: 0.6056 - recall_m: 1.0000\n",
      "Epoch 11: saving model to weights\\polarity.ckpt\n"
     ]
    },
    {
     "name": "stdout",
     "output_type": "stream",
     "text": [
      "12/12 [==============================] - 1s 77ms/step - loss: 0.4565 - binary_accuracy: 0.7005 - f1_m: 0.7489 - precision_m: 0.6056 - recall_m: 1.0000 - val_loss: 0.9490 - val_binary_accuracy: 0.5938 - val_f1_m: 0.7063 - val_precision_m: 0.5943 - val_recall_m: 0.9052\n",
      "Epoch 12/12\n",
      "11/12 [==========================>...] - ETA: 0s - loss: 0.4489 - binary_accuracy: 0.6960 - f1_m: 0.7444 - precision_m: 0.6046 - recall_m: 1.0000\n",
      "Epoch 12: saving model to weights\\polarity.ckpt\n",
      "12/12 [==============================] - 1s 89ms/step - loss: 0.4501 - binary_accuracy: 0.6979 - f1_m: 0.7442 - precision_m: 0.6035 - recall_m: 1.0000 - val_loss: 0.8627 - val_binary_accuracy: 0.5625 - val_f1_m: 0.6852 - val_precision_m: 0.5833 - val_recall_m: 0.8763\n",
      "Epoch 1/12\n",
      "11/12 [==========================>...] - ETA: 0s - loss: 0.6912 - binary_accuracy: 0.5223 - f1_m: 0.4156 - precision_m: 0.3463 - recall_m: 0.5278\n",
      "Epoch 1: saving model to weights\\polarity.ckpt\n",
      "12/12 [==============================] - 6s 228ms/step - loss: 0.6912 - binary_accuracy: 0.5250 - f1_m: 0.4378 - precision_m: 0.3656 - recall_m: 0.5532 - val_loss: 0.6833 - val_binary_accuracy: 0.6354 - val_f1_m: 0.7096 - val_precision_m: 0.5988 - val_recall_m: 0.8827\n",
      "Epoch 2/12\n",
      "12/12 [==============================] - ETA: 0s - loss: 0.6822 - binary_accuracy: 0.5443 - f1_m: 0.6064 - precision_m: 0.5087 - recall_m: 0.7706\n",
      "Epoch 2: saving model to weights\\polarity.ckpt\n",
      "12/12 [==============================] - 1s 102ms/step - loss: 0.6822 - binary_accuracy: 0.5443 - f1_m: 0.6064 - precision_m: 0.5087 - recall_m: 0.7706 - val_loss: 0.6727 - val_binary_accuracy: 0.6250 - val_f1_m: 0.7004 - val_precision_m: 0.5940 - val_recall_m: 0.8660\n",
      "Epoch 3/12\n",
      "12/12 [==============================] - ETA: 0s - loss: 0.6490 - binary_accuracy: 0.5651 - f1_m: 0.6202 - precision_m: 0.5316 - recall_m: 0.7630\n",
      "Epoch 3: saving model to weights\\polarity.ckpt\n",
      "12/12 [==============================] - 1s 104ms/step - loss: 0.6490 - binary_accuracy: 0.5651 - f1_m: 0.6202 - precision_m: 0.5316 - recall_m: 0.7630 - val_loss: 0.6682 - val_binary_accuracy: 0.6146 - val_f1_m: 0.6876 - val_precision_m: 0.5944 - val_recall_m: 0.8327\n",
      "Epoch 4/12\n",
      "12/12 [==============================] - ETA: 0s - loss: 0.5601 - binary_accuracy: 0.6745 - f1_m: 0.7237 - precision_m: 0.6035 - recall_m: 0.9164\n",
      "Epoch 4: saving model to weights\\polarity.ckpt\n",
      "12/12 [==============================] - 1s 109ms/step - loss: 0.5601 - binary_accuracy: 0.6745 - f1_m: 0.7237 - precision_m: 0.6035 - recall_m: 0.9164 - val_loss: 0.6543 - val_binary_accuracy: 0.6146 - val_f1_m: 0.6976 - val_precision_m: 0.5919 - val_recall_m: 0.8702\n",
      "Epoch 5/12\n",
      "12/12 [==============================] - ETA: 0s - loss: 0.4896 - binary_accuracy: 0.7005 - f1_m: 0.7247 - precision_m: 0.6774 - recall_m: 0.8988\n",
      "Epoch 5: saving model to weights\\polarity.ckpt\n",
      "12/12 [==============================] - 1s 115ms/step - loss: 0.4896 - binary_accuracy: 0.7005 - f1_m: 0.7247 - precision_m: 0.6774 - recall_m: 0.8988 - val_loss: 0.6977 - val_binary_accuracy: 0.6042 - val_f1_m: 0.6994 - val_precision_m: 0.5800 - val_recall_m: 0.9035\n",
      "Epoch 6/12\n",
      "12/12 [==============================] - ETA: 0s - loss: 0.4907 - binary_accuracy: 0.7057 - f1_m: 0.7255 - precision_m: 0.6555 - recall_m: 0.9323\n",
      "Epoch 6: saving model to weights\\polarity.ckpt\n",
      "12/12 [==============================] - 1s 112ms/step - loss: 0.4907 - binary_accuracy: 0.7057 - f1_m: 0.7255 - precision_m: 0.6555 - recall_m: 0.9323 - val_loss: 0.6790 - val_binary_accuracy: 0.6042 - val_f1_m: 0.7080 - val_precision_m: 0.5761 - val_recall_m: 0.9458\n",
      "Epoch 7/12\n",
      "12/12 [==============================] - ETA: 0s - loss: 0.4767 - binary_accuracy: 0.7109 - f1_m: 0.7461 - precision_m: 0.6567 - recall_m: 0.9461\n",
      "Epoch 7: saving model to weights\\polarity.ckpt\n",
      "12/12 [==============================] - 1s 119ms/step - loss: 0.4767 - binary_accuracy: 0.7109 - f1_m: 0.7461 - precision_m: 0.6567 - recall_m: 0.9461 - val_loss: 0.6255 - val_binary_accuracy: 0.6042 - val_f1_m: 0.7063 - val_precision_m: 0.5720 - val_recall_m: 0.9458\n",
      "Epoch 8/12\n",
      "12/12 [==============================] - ETA: 0s - loss: 0.5040 - binary_accuracy: 0.6927 - f1_m: 0.7528 - precision_m: 0.6051 - recall_m: 1.0000\n",
      "Epoch 8: saving model to weights\\polarity.ckpt\n",
      "12/12 [==============================] - 1s 117ms/step - loss: 0.5040 - binary_accuracy: 0.6927 - f1_m: 0.7528 - precision_m: 0.6051 - recall_m: 1.0000 - val_loss: 0.6452 - val_binary_accuracy: 0.6042 - val_f1_m: 0.7140 - val_precision_m: 0.5680 - val_recall_m: 0.9833\n",
      "Epoch 9/12\n",
      "12/12 [==============================] - ETA: 0s - loss: 0.5004 - binary_accuracy: 0.7005 - f1_m: 0.7556 - precision_m: 0.6137 - recall_m: 1.0000\n",
      "Epoch 9: saving model to weights\\polarity.ckpt\n",
      "12/12 [==============================] - 1s 112ms/step - loss: 0.5004 - binary_accuracy: 0.7005 - f1_m: 0.7556 - precision_m: 0.6137 - recall_m: 1.0000 - val_loss: 0.6665 - val_binary_accuracy: 0.6250 - val_f1_m: 0.7195 - val_precision_m: 0.5910 - val_recall_m: 0.9458\n",
      "Epoch 10/12\n",
      "12/12 [==============================] - ETA: 0s - loss: 0.4754 - binary_accuracy: 0.7109 - f1_m: 0.7638 - precision_m: 0.6218 - recall_m: 1.0000\n",
      "Epoch 10: saving model to weights\\polarity.ckpt\n",
      "12/12 [==============================] - 1s 99ms/step - loss: 0.4754 - binary_accuracy: 0.7109 - f1_m: 0.7638 - precision_m: 0.6218 - recall_m: 1.0000 - val_loss: 0.6878 - val_binary_accuracy: 0.6146 - val_f1_m: 0.7064 - val_precision_m: 0.5872 - val_recall_m: 0.9125\n",
      "Epoch 11/12\n",
      "12/12 [==============================] - ETA: 0s - loss: 0.4607 - binary_accuracy: 0.7135 - f1_m: 0.7657 - precision_m: 0.6246 - recall_m: 1.0000\n",
      "Epoch 11: saving model to weights\\polarity.ckpt\n",
      "12/12 [==============================] - 1s 103ms/step - loss: 0.4607 - binary_accuracy: 0.7135 - f1_m: 0.7657 - precision_m: 0.6246 - recall_m: 1.0000 - val_loss: 0.6980 - val_binary_accuracy: 0.6146 - val_f1_m: 0.7089 - val_precision_m: 0.5820 - val_recall_m: 0.9292\n",
      "Epoch 12/12\n",
      "12/12 [==============================] - ETA: 0s - loss: 0.4489 - binary_accuracy: 0.7135 - f1_m: 0.7586 - precision_m: 0.6195 - recall_m: 1.0000\n",
      "Epoch 12: saving model to weights\\polarity.ckpt\n",
      "12/12 [==============================] - 1s 112ms/step - loss: 0.4489 - binary_accuracy: 0.7135 - f1_m: 0.7586 - precision_m: 0.6195 - recall_m: 1.0000 - val_loss: 0.7199 - val_binary_accuracy: 0.5938 - val_f1_m: 0.6975 - val_precision_m: 0.5676 - val_recall_m: 0.9292\n",
      "Epoch 1/12\n",
      "12/12 [==============================] - ETA: 0s - loss: 0.7002 - binary_accuracy: 0.5146 - f1_m: 0.6516 - precision_m: 0.4921 - recall_m: 1.0000\n",
      "Epoch 1: saving model to weights\\polarity.ckpt\n",
      "12/12 [==============================] - 6s 202ms/step - loss: 0.7002 - binary_accuracy: 0.5146 - f1_m: 0.6516 - precision_m: 0.4921 - recall_m: 1.0000 - val_loss: 0.6859 - val_binary_accuracy: 0.5938 - val_f1_m: 0.6932 - val_precision_m: 0.5313 - val_recall_m: 1.0000\n",
      "Epoch 2/12\n",
      "12/12 [==============================] - ETA: 0s - loss: 0.6876 - binary_accuracy: 0.5833 - f1_m: 0.6664 - precision_m: 0.5483 - recall_m: 0.8666\n",
      "Epoch 2: saving model to weights\\polarity.ckpt\n",
      "12/12 [==============================] - 1s 86ms/step - loss: 0.6876 - binary_accuracy: 0.5833 - f1_m: 0.6664 - precision_m: 0.5483 - recall_m: 0.8666 - val_loss: 0.6826 - val_binary_accuracy: 0.6458 - val_f1_m: 0.6972 - val_precision_m: 0.5772 - val_recall_m: 0.8857\n",
      "Epoch 3/12\n",
      "12/12 [==============================] - ETA: 0s - loss: 0.6837 - binary_accuracy: 0.5781 - f1_m: 0.6460 - precision_m: 0.5452 - recall_m: 0.8142\n",
      "Epoch 3: saving model to weights\\polarity.ckpt\n",
      "12/12 [==============================] - 1s 93ms/step - loss: 0.6837 - binary_accuracy: 0.5781 - f1_m: 0.6460 - precision_m: 0.5452 - recall_m: 0.8142 - val_loss: 0.6714 - val_binary_accuracy: 0.6458 - val_f1_m: 0.6972 - val_precision_m: 0.5772 - val_recall_m: 0.8857\n",
      "Epoch 4/12\n",
      "12/12 [==============================] - ETA: 0s - loss: 0.6641 - binary_accuracy: 0.6146 - f1_m: 0.6850 - precision_m: 0.5658 - recall_m: 0.8834\n",
      "Epoch 4: saving model to weights\\polarity.ckpt\n",
      "12/12 [==============================] - 1s 93ms/step - loss: 0.6641 - binary_accuracy: 0.6146 - f1_m: 0.6850 - precision_m: 0.5658 - recall_m: 0.8834 - val_loss: 0.6155 - val_binary_accuracy: 0.6562 - val_f1_m: 0.6992 - val_precision_m: 0.5904 - val_recall_m: 0.8635\n"
     ]
    },
    {
     "name": "stdout",
     "output_type": "stream",
     "text": [
      "Epoch 5/12\n",
      "11/12 [==========================>...] - ETA: 0s - loss: 0.5743 - binary_accuracy: 0.6591 - f1_m: 0.7029 - precision_m: 0.6312 - recall_m: 0.8839\n",
      "Epoch 5: saving model to weights\\polarity.ckpt\n",
      "12/12 [==============================] - 1s 86ms/step - loss: 0.5710 - binary_accuracy: 0.6641 - f1_m: 0.7110 - precision_m: 0.6341 - recall_m: 0.8936 - val_loss: 0.5789 - val_binary_accuracy: 0.6875 - val_f1_m: 0.7369 - val_precision_m: 0.6033 - val_recall_m: 0.9556\n",
      "Epoch 6/12\n",
      "12/12 [==============================] - ETA: 0s - loss: 0.5470 - binary_accuracy: 0.6745 - f1_m: 0.7447 - precision_m: 0.5969 - recall_m: 1.0000\n",
      "Epoch 6: saving model to weights\\polarity.ckpt\n",
      "12/12 [==============================] - 1s 79ms/step - loss: 0.5470 - binary_accuracy: 0.6745 - f1_m: 0.7447 - precision_m: 0.5969 - recall_m: 1.0000 - val_loss: 0.5626 - val_binary_accuracy: 0.6562 - val_f1_m: 0.7176 - val_precision_m: 0.5765 - val_recall_m: 0.9556\n",
      "Epoch 7/12\n",
      "11/12 [==========================>...] - ETA: 0s - loss: 0.5030 - binary_accuracy: 0.7102 - f1_m: 0.7673 - precision_m: 0.6270 - recall_m: 1.0000\n",
      "Epoch 7: saving model to weights\\polarity.ckpt\n",
      "12/12 [==============================] - 1s 80ms/step - loss: 0.5032 - binary_accuracy: 0.7135 - f1_m: 0.7497 - precision_m: 0.6581 - recall_m: 0.9487 - val_loss: 1.0166 - val_binary_accuracy: 0.5729 - val_f1_m: 0.1618 - val_precision_m: 0.6667 - val_recall_m: 0.0921\n",
      "Epoch 8/12\n",
      "11/12 [==========================>...] - ETA: 0s - loss: 0.5277 - binary_accuracy: 0.7074 - f1_m: 0.7282 - precision_m: 0.7003 - recall_m: 0.8848\n",
      "Epoch 8: saving model to weights\\polarity.ckpt\n",
      "12/12 [==============================] - 1s 81ms/step - loss: 0.5318 - binary_accuracy: 0.7005 - f1_m: 0.7259 - precision_m: 0.6868 - recall_m: 0.8944 - val_loss: 0.6484 - val_binary_accuracy: 0.6354 - val_f1_m: 0.7054 - val_precision_m: 0.5595 - val_recall_m: 0.9556\n",
      "Epoch 9/12\n",
      "12/12 [==============================] - ETA: 0s - loss: 0.4888 - binary_accuracy: 0.7031 - f1_m: 0.7613 - precision_m: 0.6221 - recall_m: 1.0000\n",
      "Epoch 9: saving model to weights\\polarity.ckpt\n",
      "12/12 [==============================] - 1s 87ms/step - loss: 0.4888 - binary_accuracy: 0.7031 - f1_m: 0.7613 - precision_m: 0.6221 - recall_m: 1.0000 - val_loss: 0.6371 - val_binary_accuracy: 0.6354 - val_f1_m: 0.7054 - val_precision_m: 0.5595 - val_recall_m: 0.9556\n",
      "Epoch 10/12\n",
      "12/12 [==============================] - ETA: 0s - loss: 0.4744 - binary_accuracy: 0.7031 - f1_m: 0.7643 - precision_m: 0.6245 - recall_m: 1.0000\n",
      "Epoch 10: saving model to weights\\polarity.ckpt\n",
      "12/12 [==============================] - 1s 91ms/step - loss: 0.4744 - binary_accuracy: 0.7031 - f1_m: 0.7643 - precision_m: 0.6245 - recall_m: 1.0000 - val_loss: 0.6496 - val_binary_accuracy: 0.6354 - val_f1_m: 0.7054 - val_precision_m: 0.5595 - val_recall_m: 0.9556\n",
      "Epoch 11/12\n",
      "11/12 [==========================>...] - ETA: 0s - loss: 0.4642 - binary_accuracy: 0.6903 - f1_m: 0.6892 - precision_m: 0.6911 - recall_m: 0.8580\n",
      "Epoch 11: saving model to weights\\polarity.ckpt\n",
      "12/12 [==============================] - 1s 83ms/step - loss: 0.4672 - binary_accuracy: 0.6875 - f1_m: 0.6948 - precision_m: 0.6841 - recall_m: 0.8698 - val_loss: 0.6735 - val_binary_accuracy: 0.6146 - val_f1_m: 0.6946 - val_precision_m: 0.5456 - val_recall_m: 0.9556\n",
      "Epoch 12/12\n",
      "12/12 [==============================] - ETA: 0s - loss: 0.4589 - binary_accuracy: 0.7057 - f1_m: 0.7652 - precision_m: 0.6245 - recall_m: 1.0000\n",
      "Epoch 12: saving model to weights\\polarity.ckpt\n",
      "12/12 [==============================] - 1s 81ms/step - loss: 0.4589 - binary_accuracy: 0.7057 - f1_m: 0.7652 - precision_m: 0.6245 - recall_m: 1.0000 - val_loss: 0.7030 - val_binary_accuracy: 0.6146 - val_f1_m: 0.6946 - val_precision_m: 0.5456 - val_recall_m: 0.9556\n"
     ]
    }
   ],
   "source": [
    "from sklearn.model_selection import KFold\n",
    "acc = []\n",
    "cv = KFold(n_splits=5, shuffle=True, random_state=42)\n",
    "k_train = np.concatenate((x, x_val), axis=0)\n",
    "k_labels = np.concatenate((y, y_val), axis=0)\n",
    "for train_idx, test_idx in cv.split(k_train,k_labels):\n",
    "    \n",
    "        x_train, y_train  = k_train[train_idx],k_labels[train_idx]\n",
    "        x_val, y_val= k_train[test_idx], k_labels[test_idx]\n",
    "        \n",
    "        acc_ = []\n",
    "\n",
    "        model = build_Att_Bi_LSTM()\n",
    "\n",
    "        history = model.fit(x_train, y_train , validation_data=[x_val, y_val],\n",
    "                               epochs=12,\n",
    "                               class_weight=compute_class_weights(y_train),\n",
    "                               callbacks=[cp_callback])\n",
    "\n",
    "        acc_.append(history.history['val_binary_accuracy'][-1])\n",
    "        \n",
    "        acc.append(acc_)\n",
    "    \n",
    "cv_acc = np.mean(np.array(acc), axis = 0)"
   ]
  },
  {
   "cell_type": "code",
   "execution_count": 23,
   "id": "749e6238",
   "metadata": {},
   "outputs": [
    {
     "name": "stdout",
     "output_type": "stream",
     "text": [
      "4/4 [==============================] - 1s 21ms/step - loss: 0.8569 - binary_accuracy: 0.5785 - f1_m: 0.6957 - precision_m: 0.5764 - recall_m: 0.8806\n"
     ]
    },
    {
     "data": {
      "text/plain": [
       "[0.8569455742835999,\n",
       " 0.5785123705863953,\n",
       " 0.6957402229309082,\n",
       " 0.5763888955116272,\n",
       " 0.8806390762329102]"
      ]
     },
     "execution_count": 23,
     "metadata": {},
     "output_type": "execute_result"
    }
   ],
   "source": [
    "model.evaluate(x_test, y_test)"
   ]
  }
 ],
 "metadata": {
  "kernelspec": {
   "display_name": "Python 3 (ipykernel)",
   "language": "python",
   "name": "python3"
  },
  "language_info": {
   "codemirror_mode": {
    "name": "ipython",
    "version": 3
   },
   "file_extension": ".py",
   "mimetype": "text/x-python",
   "name": "python",
   "nbconvert_exporter": "python",
   "pygments_lexer": "ipython3",
   "version": "3.7.3"
  }
 },
 "nbformat": 4,
 "nbformat_minor": 5
}
